{
 "cells": [
  {
   "cell_type": "code",
   "execution_count": 292,
   "metadata": {},
   "outputs": [],
   "source": [
    "# Modules import\n",
    "\n",
    "import numpy as np \n",
    "import pandas as pd \n",
    "import seaborn as sns\n",
    "import matplotlib.pyplot as plt\n",
    "\n",
    "\n",
    "from sklearn.model_selection import train_test_split\n",
    "from sklearn.pipeline import Pipeline\n",
    "from sklearn.impute import SimpleImputer\n",
    "from sklearn.preprocessing import  OneHotEncoder, StandardScaler, LabelEncoder\n",
    "from sklearn.compose import ColumnTransformer\n",
    "from sklearn.linear_model import LogisticRegression\n",
    "from sklearn.ensemble import RandomForestClassifier\n",
    "from sklearn.model_selection import GridSearchCV\n",
    "from sklearn.metrics import f1_score"
   ]
  },
  {
   "cell_type": "code",
   "execution_count": 293,
   "metadata": {},
   "outputs": [
    {
     "name": "stdout",
     "output_type": "stream",
     "text": [
      "Requirement already satisfied: s3fs in /opt/conda/lib/python3.8/site-packages (2021.8.1)\n",
      "Requirement already satisfied: fsspec==2021.08.1 in /opt/conda/lib/python3.8/site-packages (from s3fs) (2021.8.1)\n",
      "Requirement already satisfied: aiobotocore~=1.4.0 in /opt/conda/lib/python3.8/site-packages (from s3fs) (1.4.1)\n",
      "Requirement already satisfied: botocore<1.20.107,>=1.20.106 in /opt/conda/lib/python3.8/site-packages (from aiobotocore~=1.4.0->s3fs) (1.20.106)\n",
      "Requirement already satisfied: aioitertools>=0.5.1 in /opt/conda/lib/python3.8/site-packages (from aiobotocore~=1.4.0->s3fs) (0.8.0)\n",
      "Requirement already satisfied: wrapt>=1.10.10 in /opt/conda/lib/python3.8/site-packages (from aiobotocore~=1.4.0->s3fs) (1.12.1)\n",
      "Requirement already satisfied: aiohttp>=3.3.1 in /opt/conda/lib/python3.8/site-packages (from aiobotocore~=1.4.0->s3fs) (3.7.4.post0)\n",
      "Requirement already satisfied: urllib3<1.27,>=1.25.4 in /opt/conda/lib/python3.8/site-packages (from botocore<1.20.107,>=1.20.106->aiobotocore~=1.4.0->s3fs) (1.25.10)\n",
      "Requirement already satisfied: python-dateutil<3.0.0,>=2.1 in /opt/conda/lib/python3.8/site-packages (from botocore<1.20.107,>=1.20.106->aiobotocore~=1.4.0->s3fs) (2.8.1)\n",
      "Requirement already satisfied: jmespath<1.0.0,>=0.7.1 in /opt/conda/lib/python3.8/site-packages (from botocore<1.20.107,>=1.20.106->aiobotocore~=1.4.0->s3fs) (0.10.0)\n",
      "Requirement already satisfied: attrs>=17.3.0 in /opt/conda/lib/python3.8/site-packages (from aiohttp>=3.3.1->aiobotocore~=1.4.0->s3fs) (20.2.0)\n",
      "Requirement already satisfied: async-timeout<4.0,>=3.0 in /opt/conda/lib/python3.8/site-packages (from aiohttp>=3.3.1->aiobotocore~=1.4.0->s3fs) (3.0.1)\n",
      "Requirement already satisfied: multidict<7.0,>=4.5 in /opt/conda/lib/python3.8/site-packages (from aiohttp>=3.3.1->aiobotocore~=1.4.0->s3fs) (5.1.0)\n",
      "Requirement already satisfied: yarl<2.0,>=1.0 in /opt/conda/lib/python3.8/site-packages (from aiohttp>=3.3.1->aiobotocore~=1.4.0->s3fs) (1.6.3)\n",
      "Requirement already satisfied: typing-extensions>=3.6.5 in /opt/conda/lib/python3.8/site-packages (from aiohttp>=3.3.1->aiobotocore~=1.4.0->s3fs) (3.7.4.2)\n",
      "Requirement already satisfied: chardet<5.0,>=2.0 in /opt/conda/lib/python3.8/site-packages (from aiohttp>=3.3.1->aiobotocore~=1.4.0->s3fs) (3.0.4)\n",
      "Requirement already satisfied: six>=1.5 in /opt/conda/lib/python3.8/site-packages (from python-dateutil<3.0.0,>=2.1->botocore<1.20.107,>=1.20.106->aiobotocore~=1.4.0->s3fs) (1.15.0)\n",
      "Requirement already satisfied: idna>=2.0 in /opt/conda/lib/python3.8/site-packages (from yarl<2.0,>=1.0->aiohttp>=3.3.1->aiobotocore~=1.4.0->s3fs) (2.10)\n"
     ]
    }
   ],
   "source": [
    "!pip install s3fs"
   ]
  },
  {
   "cell_type": "code",
   "execution_count": 294,
   "metadata": {},
   "outputs": [],
   "source": [
    "# Import des datatsets\n",
    "\n",
    "df1 = pd.read_csv(\"s3://full-stack-bigdata-datasets/Machine Learning Supervisé/projects/fraudulent_activity/Fraud_Data.csv\")\n",
    "ip_country = pd.read_csv(\"s3://full-stack-bigdata-datasets/Machine Learning Supervisé/projects/fraudulent_activity/IpAddress_to_Country.csv\")"
   ]
  },
  {
   "cell_type": "markdown",
   "metadata": {},
   "source": [
    "## Exploration des datasets"
   ]
  },
  {
   "cell_type": "code",
   "execution_count": 295,
   "metadata": {},
   "outputs": [],
   "source": [
    "df1.to_csv('fraud.csv', index = False)"
   ]
  },
  {
   "cell_type": "code",
   "execution_count": 296,
   "metadata": {},
   "outputs": [
    {
     "data": {
      "text/html": [
       "<div>\n",
       "<style scoped>\n",
       "    .dataframe tbody tr th:only-of-type {\n",
       "        vertical-align: middle;\n",
       "    }\n",
       "\n",
       "    .dataframe tbody tr th {\n",
       "        vertical-align: top;\n",
       "    }\n",
       "\n",
       "    .dataframe thead th {\n",
       "        text-align: right;\n",
       "    }\n",
       "</style>\n",
       "<table border=\"1\" class=\"dataframe\">\n",
       "  <thead>\n",
       "    <tr style=\"text-align: right;\">\n",
       "      <th></th>\n",
       "      <th>user_id</th>\n",
       "      <th>signup_time</th>\n",
       "      <th>purchase_time</th>\n",
       "      <th>purchase_value</th>\n",
       "      <th>device_id</th>\n",
       "      <th>source</th>\n",
       "      <th>browser</th>\n",
       "      <th>sex</th>\n",
       "      <th>age</th>\n",
       "      <th>ip_address</th>\n",
       "      <th>class</th>\n",
       "    </tr>\n",
       "  </thead>\n",
       "  <tbody>\n",
       "    <tr>\n",
       "      <th>0</th>\n",
       "      <td>22058</td>\n",
       "      <td>2015-02-24 22:55:49</td>\n",
       "      <td>2015-04-18 02:47:11</td>\n",
       "      <td>34</td>\n",
       "      <td>QVPSPJUOCKZAR</td>\n",
       "      <td>SEO</td>\n",
       "      <td>Chrome</td>\n",
       "      <td>M</td>\n",
       "      <td>39</td>\n",
       "      <td>7.327584e+08</td>\n",
       "      <td>0</td>\n",
       "    </tr>\n",
       "    <tr>\n",
       "      <th>1</th>\n",
       "      <td>333320</td>\n",
       "      <td>2015-06-07 20:39:50</td>\n",
       "      <td>2015-06-08 01:38:54</td>\n",
       "      <td>16</td>\n",
       "      <td>EOGFQPIZPYXFZ</td>\n",
       "      <td>Ads</td>\n",
       "      <td>Chrome</td>\n",
       "      <td>F</td>\n",
       "      <td>53</td>\n",
       "      <td>3.503114e+08</td>\n",
       "      <td>0</td>\n",
       "    </tr>\n",
       "    <tr>\n",
       "      <th>2</th>\n",
       "      <td>1359</td>\n",
       "      <td>2015-01-01 18:52:44</td>\n",
       "      <td>2015-01-01 18:52:45</td>\n",
       "      <td>15</td>\n",
       "      <td>YSSKYOSJHPPLJ</td>\n",
       "      <td>SEO</td>\n",
       "      <td>Opera</td>\n",
       "      <td>M</td>\n",
       "      <td>53</td>\n",
       "      <td>2.621474e+09</td>\n",
       "      <td>1</td>\n",
       "    </tr>\n",
       "    <tr>\n",
       "      <th>3</th>\n",
       "      <td>150084</td>\n",
       "      <td>2015-04-28 21:13:25</td>\n",
       "      <td>2015-05-04 13:54:50</td>\n",
       "      <td>44</td>\n",
       "      <td>ATGTXKYKUDUQN</td>\n",
       "      <td>SEO</td>\n",
       "      <td>Safari</td>\n",
       "      <td>M</td>\n",
       "      <td>41</td>\n",
       "      <td>3.840542e+09</td>\n",
       "      <td>0</td>\n",
       "    </tr>\n",
       "    <tr>\n",
       "      <th>4</th>\n",
       "      <td>221365</td>\n",
       "      <td>2015-07-21 07:09:52</td>\n",
       "      <td>2015-09-09 18:40:53</td>\n",
       "      <td>39</td>\n",
       "      <td>NAUITBZFJKHWW</td>\n",
       "      <td>Ads</td>\n",
       "      <td>Safari</td>\n",
       "      <td>M</td>\n",
       "      <td>45</td>\n",
       "      <td>4.155831e+08</td>\n",
       "      <td>0</td>\n",
       "    </tr>\n",
       "  </tbody>\n",
       "</table>\n",
       "</div>"
      ],
      "text/plain": [
       "   user_id          signup_time        purchase_time  purchase_value  \\\n",
       "0    22058  2015-02-24 22:55:49  2015-04-18 02:47:11              34   \n",
       "1   333320  2015-06-07 20:39:50  2015-06-08 01:38:54              16   \n",
       "2     1359  2015-01-01 18:52:44  2015-01-01 18:52:45              15   \n",
       "3   150084  2015-04-28 21:13:25  2015-05-04 13:54:50              44   \n",
       "4   221365  2015-07-21 07:09:52  2015-09-09 18:40:53              39   \n",
       "\n",
       "       device_id source browser sex  age    ip_address  class  \n",
       "0  QVPSPJUOCKZAR    SEO  Chrome   M   39  7.327584e+08      0  \n",
       "1  EOGFQPIZPYXFZ    Ads  Chrome   F   53  3.503114e+08      0  \n",
       "2  YSSKYOSJHPPLJ    SEO   Opera   M   53  2.621474e+09      1  \n",
       "3  ATGTXKYKUDUQN    SEO  Safari   M   41  3.840542e+09      0  \n",
       "4  NAUITBZFJKHWW    Ads  Safari   M   45  4.155831e+08      0  "
      ]
     },
     "execution_count": 296,
     "metadata": {},
     "output_type": "execute_result"
    }
   ],
   "source": [
    "df1 = pd.read_csv(\"fraud.csv\")\n",
    "df1.head()"
   ]
  },
  {
   "cell_type": "markdown",
   "metadata": {},
   "source": [
    "Class = 1 means the transaction have been categorized as fraudulous< This is our target value."
   ]
  },
  {
   "cell_type": "code",
   "execution_count": 297,
   "metadata": {},
   "outputs": [
    {
     "data": {
      "text/plain": [
       "0    136961\n",
       "1     14151\n",
       "Name: class, dtype: int64"
      ]
     },
     "execution_count": 297,
     "metadata": {},
     "output_type": "execute_result"
    }
   ],
   "source": [
    "df1[\"class\"].value_counts()"
   ]
  },
  {
   "cell_type": "code",
   "execution_count": null,
   "metadata": {},
   "outputs": [],
   "source": []
  },
  {
   "cell_type": "code",
   "execution_count": 298,
   "metadata": {},
   "outputs": [
    {
     "data": {
      "text/html": [
       "<div>\n",
       "<style scoped>\n",
       "    .dataframe tbody tr th:only-of-type {\n",
       "        vertical-align: middle;\n",
       "    }\n",
       "\n",
       "    .dataframe tbody tr th {\n",
       "        vertical-align: top;\n",
       "    }\n",
       "\n",
       "    .dataframe thead th {\n",
       "        text-align: right;\n",
       "    }\n",
       "</style>\n",
       "<table border=\"1\" class=\"dataframe\">\n",
       "  <thead>\n",
       "    <tr style=\"text-align: right;\">\n",
       "      <th></th>\n",
       "      <th>user_id</th>\n",
       "      <th>signup_time</th>\n",
       "      <th>purchase_time</th>\n",
       "      <th>purchase_value</th>\n",
       "      <th>device_id</th>\n",
       "      <th>source</th>\n",
       "      <th>browser</th>\n",
       "      <th>sex</th>\n",
       "      <th>age</th>\n",
       "      <th>ip_address</th>\n",
       "      <th>class</th>\n",
       "    </tr>\n",
       "  </thead>\n",
       "  <tbody>\n",
       "    <tr>\n",
       "      <th>0</th>\n",
       "      <td>22058</td>\n",
       "      <td>2015-02-24 22:55:49</td>\n",
       "      <td>2015-04-18 02:47:11</td>\n",
       "      <td>34</td>\n",
       "      <td>QVPSPJUOCKZAR</td>\n",
       "      <td>SEO</td>\n",
       "      <td>Chrome</td>\n",
       "      <td>M</td>\n",
       "      <td>39</td>\n",
       "      <td>7.327584e+08</td>\n",
       "      <td>normal</td>\n",
       "    </tr>\n",
       "    <tr>\n",
       "      <th>1</th>\n",
       "      <td>333320</td>\n",
       "      <td>2015-06-07 20:39:50</td>\n",
       "      <td>2015-06-08 01:38:54</td>\n",
       "      <td>16</td>\n",
       "      <td>EOGFQPIZPYXFZ</td>\n",
       "      <td>Ads</td>\n",
       "      <td>Chrome</td>\n",
       "      <td>F</td>\n",
       "      <td>53</td>\n",
       "      <td>3.503114e+08</td>\n",
       "      <td>normal</td>\n",
       "    </tr>\n",
       "    <tr>\n",
       "      <th>2</th>\n",
       "      <td>1359</td>\n",
       "      <td>2015-01-01 18:52:44</td>\n",
       "      <td>2015-01-01 18:52:45</td>\n",
       "      <td>15</td>\n",
       "      <td>YSSKYOSJHPPLJ</td>\n",
       "      <td>SEO</td>\n",
       "      <td>Opera</td>\n",
       "      <td>M</td>\n",
       "      <td>53</td>\n",
       "      <td>2.621474e+09</td>\n",
       "      <td>fraudulous</td>\n",
       "    </tr>\n",
       "    <tr>\n",
       "      <th>3</th>\n",
       "      <td>150084</td>\n",
       "      <td>2015-04-28 21:13:25</td>\n",
       "      <td>2015-05-04 13:54:50</td>\n",
       "      <td>44</td>\n",
       "      <td>ATGTXKYKUDUQN</td>\n",
       "      <td>SEO</td>\n",
       "      <td>Safari</td>\n",
       "      <td>M</td>\n",
       "      <td>41</td>\n",
       "      <td>3.840542e+09</td>\n",
       "      <td>normal</td>\n",
       "    </tr>\n",
       "    <tr>\n",
       "      <th>4</th>\n",
       "      <td>221365</td>\n",
       "      <td>2015-07-21 07:09:52</td>\n",
       "      <td>2015-09-09 18:40:53</td>\n",
       "      <td>39</td>\n",
       "      <td>NAUITBZFJKHWW</td>\n",
       "      <td>Ads</td>\n",
       "      <td>Safari</td>\n",
       "      <td>M</td>\n",
       "      <td>45</td>\n",
       "      <td>4.155831e+08</td>\n",
       "      <td>normal</td>\n",
       "    </tr>\n",
       "  </tbody>\n",
       "</table>\n",
       "</div>"
      ],
      "text/plain": [
       "   user_id          signup_time        purchase_time  purchase_value  \\\n",
       "0    22058  2015-02-24 22:55:49  2015-04-18 02:47:11              34   \n",
       "1   333320  2015-06-07 20:39:50  2015-06-08 01:38:54              16   \n",
       "2     1359  2015-01-01 18:52:44  2015-01-01 18:52:45              15   \n",
       "3   150084  2015-04-28 21:13:25  2015-05-04 13:54:50              44   \n",
       "4   221365  2015-07-21 07:09:52  2015-09-09 18:40:53              39   \n",
       "\n",
       "       device_id source browser sex  age    ip_address       class  \n",
       "0  QVPSPJUOCKZAR    SEO  Chrome   M   39  7.327584e+08      normal  \n",
       "1  EOGFQPIZPYXFZ    Ads  Chrome   F   53  3.503114e+08      normal  \n",
       "2  YSSKYOSJHPPLJ    SEO   Opera   M   53  2.621474e+09  fraudulous  \n",
       "3  ATGTXKYKUDUQN    SEO  Safari   M   41  3.840542e+09      normal  \n",
       "4  NAUITBZFJKHWW    Ads  Safari   M   45  4.155831e+08      normal  "
      ]
     },
     "execution_count": 298,
     "metadata": {},
     "output_type": "execute_result"
    }
   ],
   "source": [
    "df1[\"class\"] = df1.apply(lambda x : \"normal\" if x[\"class\"] == 0 else \"fraudulous\", axis =1)\n",
    "df1.head()"
   ]
  },
  {
   "cell_type": "code",
   "execution_count": 299,
   "metadata": {},
   "outputs": [
    {
     "data": {
      "text/plain": [
       "SEO       60615\n",
       "Ads       59881\n",
       "Direct    30616\n",
       "Name: source, dtype: int64"
      ]
     },
     "execution_count": 299,
     "metadata": {},
     "output_type": "execute_result"
    }
   ],
   "source": [
    "df1['source'].value_counts()"
   ]
  },
  {
   "cell_type": "markdown",
   "metadata": {},
   "source": [
    "Here SEO comes from Search Engine Optimization (meaning that the user have been redirected to the seller website via a search engine)"
   ]
  },
  {
   "cell_type": "code",
   "execution_count": 300,
   "metadata": {},
   "outputs": [
    {
     "data": {
      "text/html": [
       "<div>\n",
       "<style scoped>\n",
       "    .dataframe tbody tr th:only-of-type {\n",
       "        vertical-align: middle;\n",
       "    }\n",
       "\n",
       "    .dataframe tbody tr th {\n",
       "        vertical-align: top;\n",
       "    }\n",
       "\n",
       "    .dataframe thead th {\n",
       "        text-align: right;\n",
       "    }\n",
       "</style>\n",
       "<table border=\"1\" class=\"dataframe\">\n",
       "  <thead>\n",
       "    <tr style=\"text-align: right;\">\n",
       "      <th></th>\n",
       "      <th>lower_bound_ip_address</th>\n",
       "      <th>upper_bound_ip_address</th>\n",
       "      <th>country</th>\n",
       "    </tr>\n",
       "  </thead>\n",
       "  <tbody>\n",
       "    <tr>\n",
       "      <th>0</th>\n",
       "      <td>16777216.0</td>\n",
       "      <td>16777471</td>\n",
       "      <td>Australia</td>\n",
       "    </tr>\n",
       "    <tr>\n",
       "      <th>1</th>\n",
       "      <td>16777472.0</td>\n",
       "      <td>16777727</td>\n",
       "      <td>China</td>\n",
       "    </tr>\n",
       "    <tr>\n",
       "      <th>2</th>\n",
       "      <td>16777728.0</td>\n",
       "      <td>16778239</td>\n",
       "      <td>China</td>\n",
       "    </tr>\n",
       "    <tr>\n",
       "      <th>3</th>\n",
       "      <td>16778240.0</td>\n",
       "      <td>16779263</td>\n",
       "      <td>Australia</td>\n",
       "    </tr>\n",
       "    <tr>\n",
       "      <th>4</th>\n",
       "      <td>16779264.0</td>\n",
       "      <td>16781311</td>\n",
       "      <td>China</td>\n",
       "    </tr>\n",
       "  </tbody>\n",
       "</table>\n",
       "</div>"
      ],
      "text/plain": [
       "   lower_bound_ip_address  upper_bound_ip_address    country\n",
       "0              16777216.0                16777471  Australia\n",
       "1              16777472.0                16777727      China\n",
       "2              16777728.0                16778239      China\n",
       "3              16778240.0                16779263  Australia\n",
       "4              16779264.0                16781311      China"
      ]
     },
     "execution_count": 300,
     "metadata": {},
     "output_type": "execute_result"
    }
   ],
   "source": [
    "ip_country.head()"
   ]
  },
  {
   "cell_type": "markdown",
   "metadata": {},
   "source": [
    "The preceeding tab give us the range of IP address for each country"
   ]
  },
  {
   "cell_type": "code",
   "execution_count": 301,
   "metadata": {},
   "outputs": [
    {
     "data": {
      "text/plain": [
       "(151112, 11)"
      ]
     },
     "execution_count": 301,
     "metadata": {},
     "output_type": "execute_result"
    }
   ],
   "source": [
    "# number of transactions recorded\n",
    "df1.shape"
   ]
  },
  {
   "cell_type": "code",
   "execution_count": 302,
   "metadata": {},
   "outputs": [
    {
     "data": {
      "text/plain": [
       "(138846, 3)"
      ]
     },
     "execution_count": 302,
     "metadata": {},
     "output_type": "execute_result"
    }
   ],
   "source": [
    "# identified IP address\n",
    "ip_country.shape"
   ]
  },
  {
   "cell_type": "code",
   "execution_count": 303,
   "metadata": {},
   "outputs": [
    {
     "data": {
      "text/plain": [
       "user_id             int64\n",
       "signup_time        object\n",
       "purchase_time      object\n",
       "purchase_value      int64\n",
       "device_id          object\n",
       "source             object\n",
       "browser            object\n",
       "sex                object\n",
       "age                 int64\n",
       "ip_address        float64\n",
       "class              object\n",
       "dtype: object"
      ]
     },
     "execution_count": 303,
     "metadata": {},
     "output_type": "execute_result"
    }
   ],
   "source": [
    "df1.dtypes"
   ]
  },
  {
   "cell_type": "code",
   "execution_count": 304,
   "metadata": {},
   "outputs": [
    {
     "data": {
      "text/plain": [
       "lower_bound_ip_address    float64\n",
       "upper_bound_ip_address      int64\n",
       "country                    object\n",
       "dtype: object"
      ]
     },
     "execution_count": 304,
     "metadata": {},
     "output_type": "execute_result"
    }
   ],
   "source": [
    "ip_country.dtypes"
   ]
  },
  {
   "cell_type": "code",
   "execution_count": 305,
   "metadata": {},
   "outputs": [],
   "source": [
    "# Recast some columns to \"datetime\" format\n",
    "\n",
    "df1[\"signup_time\"] = pd.to_datetime(df1[\"signup_time\"], format = \"%Y-%m-%d %H:%M:%S\")\n",
    "df1[\"purchase_time\"] = pd.to_datetime(df1[\"purchase_time\"], format = \"%Y-%m-%d %H:%M:%S\")"
   ]
  },
  {
   "cell_type": "code",
   "execution_count": 306,
   "metadata": {},
   "outputs": [
    {
     "data": {
      "text/html": [
       "<div>\n",
       "<style scoped>\n",
       "    .dataframe tbody tr th:only-of-type {\n",
       "        vertical-align: middle;\n",
       "    }\n",
       "\n",
       "    .dataframe tbody tr th {\n",
       "        vertical-align: top;\n",
       "    }\n",
       "\n",
       "    .dataframe thead th {\n",
       "        text-align: right;\n",
       "    }\n",
       "</style>\n",
       "<table border=\"1\" class=\"dataframe\">\n",
       "  <thead>\n",
       "    <tr style=\"text-align: right;\">\n",
       "      <th></th>\n",
       "      <th>user_id</th>\n",
       "      <th>signup_time</th>\n",
       "      <th>purchase_time</th>\n",
       "      <th>purchase_value</th>\n",
       "      <th>device_id</th>\n",
       "      <th>source</th>\n",
       "      <th>browser</th>\n",
       "      <th>sex</th>\n",
       "      <th>age</th>\n",
       "      <th>ip_address</th>\n",
       "      <th>class</th>\n",
       "    </tr>\n",
       "  </thead>\n",
       "  <tbody>\n",
       "    <tr>\n",
       "      <th>0</th>\n",
       "      <td>22058</td>\n",
       "      <td>2015-02-24 22:55:49</td>\n",
       "      <td>2015-04-18 02:47:11</td>\n",
       "      <td>34</td>\n",
       "      <td>QVPSPJUOCKZAR</td>\n",
       "      <td>SEO</td>\n",
       "      <td>Chrome</td>\n",
       "      <td>M</td>\n",
       "      <td>39</td>\n",
       "      <td>7.327584e+08</td>\n",
       "      <td>normal</td>\n",
       "    </tr>\n",
       "    <tr>\n",
       "      <th>1</th>\n",
       "      <td>333320</td>\n",
       "      <td>2015-06-07 20:39:50</td>\n",
       "      <td>2015-06-08 01:38:54</td>\n",
       "      <td>16</td>\n",
       "      <td>EOGFQPIZPYXFZ</td>\n",
       "      <td>Ads</td>\n",
       "      <td>Chrome</td>\n",
       "      <td>F</td>\n",
       "      <td>53</td>\n",
       "      <td>3.503114e+08</td>\n",
       "      <td>normal</td>\n",
       "    </tr>\n",
       "    <tr>\n",
       "      <th>2</th>\n",
       "      <td>1359</td>\n",
       "      <td>2015-01-01 18:52:44</td>\n",
       "      <td>2015-01-01 18:52:45</td>\n",
       "      <td>15</td>\n",
       "      <td>YSSKYOSJHPPLJ</td>\n",
       "      <td>SEO</td>\n",
       "      <td>Opera</td>\n",
       "      <td>M</td>\n",
       "      <td>53</td>\n",
       "      <td>2.621474e+09</td>\n",
       "      <td>fraudulous</td>\n",
       "    </tr>\n",
       "    <tr>\n",
       "      <th>3</th>\n",
       "      <td>150084</td>\n",
       "      <td>2015-04-28 21:13:25</td>\n",
       "      <td>2015-05-04 13:54:50</td>\n",
       "      <td>44</td>\n",
       "      <td>ATGTXKYKUDUQN</td>\n",
       "      <td>SEO</td>\n",
       "      <td>Safari</td>\n",
       "      <td>M</td>\n",
       "      <td>41</td>\n",
       "      <td>3.840542e+09</td>\n",
       "      <td>normal</td>\n",
       "    </tr>\n",
       "    <tr>\n",
       "      <th>4</th>\n",
       "      <td>221365</td>\n",
       "      <td>2015-07-21 07:09:52</td>\n",
       "      <td>2015-09-09 18:40:53</td>\n",
       "      <td>39</td>\n",
       "      <td>NAUITBZFJKHWW</td>\n",
       "      <td>Ads</td>\n",
       "      <td>Safari</td>\n",
       "      <td>M</td>\n",
       "      <td>45</td>\n",
       "      <td>4.155831e+08</td>\n",
       "      <td>normal</td>\n",
       "    </tr>\n",
       "  </tbody>\n",
       "</table>\n",
       "</div>"
      ],
      "text/plain": [
       "   user_id         signup_time       purchase_time  purchase_value  \\\n",
       "0    22058 2015-02-24 22:55:49 2015-04-18 02:47:11              34   \n",
       "1   333320 2015-06-07 20:39:50 2015-06-08 01:38:54              16   \n",
       "2     1359 2015-01-01 18:52:44 2015-01-01 18:52:45              15   \n",
       "3   150084 2015-04-28 21:13:25 2015-05-04 13:54:50              44   \n",
       "4   221365 2015-07-21 07:09:52 2015-09-09 18:40:53              39   \n",
       "\n",
       "       device_id source browser sex  age    ip_address       class  \n",
       "0  QVPSPJUOCKZAR    SEO  Chrome   M   39  7.327584e+08      normal  \n",
       "1  EOGFQPIZPYXFZ    Ads  Chrome   F   53  3.503114e+08      normal  \n",
       "2  YSSKYOSJHPPLJ    SEO   Opera   M   53  2.621474e+09  fraudulous  \n",
       "3  ATGTXKYKUDUQN    SEO  Safari   M   41  3.840542e+09      normal  \n",
       "4  NAUITBZFJKHWW    Ads  Safari   M   45  4.155831e+08      normal  "
      ]
     },
     "execution_count": 306,
     "metadata": {},
     "output_type": "execute_result"
    }
   ],
   "source": [
    "df1.head()"
   ]
  },
  {
   "cell_type": "code",
   "execution_count": 307,
   "metadata": {},
   "outputs": [
    {
     "data": {
      "text/plain": [
       "user_id           0.0\n",
       "signup_time       0.0\n",
       "purchase_time     0.0\n",
       "purchase_value    0.0\n",
       "device_id         0.0\n",
       "source            0.0\n",
       "browser           0.0\n",
       "sex               0.0\n",
       "age               0.0\n",
       "ip_address        0.0\n",
       "class             0.0\n",
       "dtype: float64"
      ]
     },
     "metadata": {},
     "output_type": "display_data"
    }
   ],
   "source": [
    "# check NaN\n",
    "\n",
    "display(100*df1.isnull().sum()/df1.shape[0])"
   ]
  },
  {
   "cell_type": "code",
   "execution_count": 308,
   "metadata": {},
   "outputs": [
    {
     "data": {
      "text/plain": [
       "lower_bound_ip_address    0.0\n",
       "upper_bound_ip_address    0.0\n",
       "country                   0.0\n",
       "dtype: float64"
      ]
     },
     "metadata": {},
     "output_type": "display_data"
    }
   ],
   "source": [
    "display(100*ip_country.isnull().sum()/ip_country.shape[0])"
   ]
  },
  {
   "cell_type": "code",
   "execution_count": 309,
   "metadata": {},
   "outputs": [
    {
     "name": "stdout",
     "output_type": "stream",
     "text": [
      "Number of fraudulent transactions : 14151\n",
      "Percentage of fraudulent transactions : 9.36%\n"
     ]
    }
   ],
   "source": [
    "df1[\"class\"].value_counts()\n",
    "print(\"Number of fraudulent transactions : {}\".format(df1[\"class\"].value_counts()[1]))\n",
    "a = round(df1['class'].value_counts()[1]/df1['class'].count()*100, 2)\n",
    "print(\"Percentage of fraudulent transactions : {}%\".format(a))"
   ]
  },
  {
   "cell_type": "markdown",
   "metadata": {},
   "source": [
    "###  Determine country of origin per IP address"
   ]
  },
  {
   "cell_type": "code",
   "execution_count": 310,
   "metadata": {},
   "outputs": [],
   "source": [
    "def transform_ip(arg):\n",
    "    try:\n",
    "        return ip_country.country[(ip_country.lower_bound_ip_address < arg) & (ip_country.upper_bound_ip_address > arg)].iloc[0]  \n",
    "    except IndexError:\n",
    "        return \"Unknown country\""
   ]
  },
  {
   "cell_type": "code",
   "execution_count": 311,
   "metadata": {},
   "outputs": [
    {
     "name": "stdout",
     "output_type": "stream",
     "text": [
      "CPU times: user 3min 49s, sys: 24 s, total: 4min 13s\n",
      "Wall time: 3min 47s\n"
     ]
    }
   ],
   "source": [
    "%time df1[\"country_name\"] = df1.ip_address.apply(transform_ip)"
   ]
  },
  {
   "cell_type": "code",
   "execution_count": 312,
   "metadata": {},
   "outputs": [
    {
     "data": {
      "text/html": [
       "<div>\n",
       "<style scoped>\n",
       "    .dataframe tbody tr th:only-of-type {\n",
       "        vertical-align: middle;\n",
       "    }\n",
       "\n",
       "    .dataframe tbody tr th {\n",
       "        vertical-align: top;\n",
       "    }\n",
       "\n",
       "    .dataframe thead th {\n",
       "        text-align: right;\n",
       "    }\n",
       "</style>\n",
       "<table border=\"1\" class=\"dataframe\">\n",
       "  <thead>\n",
       "    <tr style=\"text-align: right;\">\n",
       "      <th></th>\n",
       "      <th>signup_time</th>\n",
       "      <th>purchase_time</th>\n",
       "      <th>purchase_value</th>\n",
       "      <th>device_id</th>\n",
       "      <th>source</th>\n",
       "      <th>browser</th>\n",
       "      <th>sex</th>\n",
       "      <th>age</th>\n",
       "      <th>ip_address</th>\n",
       "      <th>class</th>\n",
       "      <th>country_name</th>\n",
       "      <th>time_delta</th>\n",
       "    </tr>\n",
       "  </thead>\n",
       "  <tbody>\n",
       "    <tr>\n",
       "      <th>0</th>\n",
       "      <td>2015-02-24 22:55:49</td>\n",
       "      <td>2015-04-18 02:47:11</td>\n",
       "      <td>34</td>\n",
       "      <td>QVPSPJUOCKZAR</td>\n",
       "      <td>SEO</td>\n",
       "      <td>Chrome</td>\n",
       "      <td>M</td>\n",
       "      <td>39</td>\n",
       "      <td>7.327584e+08</td>\n",
       "      <td>normal</td>\n",
       "      <td>Japan</td>\n",
       "      <td>4506682.0</td>\n",
       "    </tr>\n",
       "    <tr>\n",
       "      <th>1</th>\n",
       "      <td>2015-06-07 20:39:50</td>\n",
       "      <td>2015-06-08 01:38:54</td>\n",
       "      <td>16</td>\n",
       "      <td>EOGFQPIZPYXFZ</td>\n",
       "      <td>Ads</td>\n",
       "      <td>Chrome</td>\n",
       "      <td>F</td>\n",
       "      <td>53</td>\n",
       "      <td>3.503114e+08</td>\n",
       "      <td>normal</td>\n",
       "      <td>United States</td>\n",
       "      <td>17944.0</td>\n",
       "    </tr>\n",
       "    <tr>\n",
       "      <th>2</th>\n",
       "      <td>2015-01-01 18:52:44</td>\n",
       "      <td>2015-01-01 18:52:45</td>\n",
       "      <td>15</td>\n",
       "      <td>YSSKYOSJHPPLJ</td>\n",
       "      <td>SEO</td>\n",
       "      <td>Opera</td>\n",
       "      <td>M</td>\n",
       "      <td>53</td>\n",
       "      <td>2.621474e+09</td>\n",
       "      <td>fraudulous</td>\n",
       "      <td>United States</td>\n",
       "      <td>1.0</td>\n",
       "    </tr>\n",
       "    <tr>\n",
       "      <th>3</th>\n",
       "      <td>2015-04-28 21:13:25</td>\n",
       "      <td>2015-05-04 13:54:50</td>\n",
       "      <td>44</td>\n",
       "      <td>ATGTXKYKUDUQN</td>\n",
       "      <td>SEO</td>\n",
       "      <td>Safari</td>\n",
       "      <td>M</td>\n",
       "      <td>41</td>\n",
       "      <td>3.840542e+09</td>\n",
       "      <td>normal</td>\n",
       "      <td>Unknown country</td>\n",
       "      <td>492085.0</td>\n",
       "    </tr>\n",
       "    <tr>\n",
       "      <th>4</th>\n",
       "      <td>2015-07-21 07:09:52</td>\n",
       "      <td>2015-09-09 18:40:53</td>\n",
       "      <td>39</td>\n",
       "      <td>NAUITBZFJKHWW</td>\n",
       "      <td>Ads</td>\n",
       "      <td>Safari</td>\n",
       "      <td>M</td>\n",
       "      <td>45</td>\n",
       "      <td>4.155831e+08</td>\n",
       "      <td>normal</td>\n",
       "      <td>United States</td>\n",
       "      <td>4361461.0</td>\n",
       "    </tr>\n",
       "  </tbody>\n",
       "</table>\n",
       "</div>"
      ],
      "text/plain": [
       "          signup_time       purchase_time  purchase_value      device_id  \\\n",
       "0 2015-02-24 22:55:49 2015-04-18 02:47:11              34  QVPSPJUOCKZAR   \n",
       "1 2015-06-07 20:39:50 2015-06-08 01:38:54              16  EOGFQPIZPYXFZ   \n",
       "2 2015-01-01 18:52:44 2015-01-01 18:52:45              15  YSSKYOSJHPPLJ   \n",
       "3 2015-04-28 21:13:25 2015-05-04 13:54:50              44  ATGTXKYKUDUQN   \n",
       "4 2015-07-21 07:09:52 2015-09-09 18:40:53              39  NAUITBZFJKHWW   \n",
       "\n",
       "  source browser sex  age    ip_address       class     country_name  \\\n",
       "0    SEO  Chrome   M   39  7.327584e+08      normal            Japan   \n",
       "1    Ads  Chrome   F   53  3.503114e+08      normal    United States   \n",
       "2    SEO   Opera   M   53  2.621474e+09  fraudulous    United States   \n",
       "3    SEO  Safari   M   41  3.840542e+09      normal  Unknown country   \n",
       "4    Ads  Safari   M   45  4.155831e+08      normal    United States   \n",
       "\n",
       "   time_delta  \n",
       "0   4506682.0  \n",
       "1     17944.0  \n",
       "2         1.0  \n",
       "3    492085.0  \n",
       "4   4361461.0  "
      ]
     },
     "execution_count": 312,
     "metadata": {},
     "output_type": "execute_result"
    }
   ],
   "source": [
    "df1 = df1.iloc[:, 1:] \n",
    "df1[\"time_delta\"] = (df1.purchase_time - df1.signup_time) / np.timedelta64(1, 's')\n",
    "df1.head()"
   ]
  },
  {
   "cell_type": "code",
   "execution_count": 313,
   "metadata": {},
   "outputs": [],
   "source": [
    "df1 = df1.rename(columns={\"class\": \"target\"})"
   ]
  },
  {
   "cell_type": "markdown",
   "metadata": {},
   "source": [
    "### Some dataviz"
   ]
  },
  {
   "cell_type": "code",
   "execution_count": 314,
   "metadata": {},
   "outputs": [
    {
     "data": {
      "image/png": "[encoded data removed]",
      "text/plain": [
       "<Figure size 1080x576 with 1 Axes>"
      ]
     },
     "metadata": {},
     "output_type": "display_data"
    }
   ],
   "source": [
    "sns.set(style=\"ticks\", palette=\"pastel\")\n",
    "\n",
    "### TOTAL FRAUD RATE ###\n",
    "fig = plt.figure(figsize=(15,8))\n",
    "not_fraud = df1[df1.target == \"normal\"].target.value_counts()\n",
    "fraud = df1[df1.target == \"fraudulous\"].target.value_counts()\n",
    "\n",
    "labels = ['normal','fraudulous']\n",
    "\n",
    "fraud_pie = np.concatenate((not_fraud, fraud), axis=0)\n",
    "\n",
    "plt.pie(fraud_pie, labels=labels, autopct='%1.1f%%')\n",
    "plt.title(\"Total Fraud Rate\")\n",
    "plt.show()"
   ]
  },
  {
   "cell_type": "code",
   "execution_count": 315,
   "metadata": {},
   "outputs": [
    {
     "data": {
      "text/plain": [
       "<AxesSubplot:xlabel='source', ylabel='count'>"
      ]
     },
     "execution_count": 315,
     "metadata": {},
     "output_type": "execute_result"
    },
    {
     "data": {
      "image/png": "[encoded data removed]",
      "text/plain": [
       "<Figure size 432x288 with 1 Axes>"
      ]
     },
     "metadata": {},
     "output_type": "display_data"
    }
   ],
   "source": [
    "sns.countplot(x = 'source', data = df1, hue = 'target')"
   ]
  },
  {
   "cell_type": "code",
   "execution_count": 316,
   "metadata": {},
   "outputs": [
    {
     "data": {
      "text/plain": [
       "<AxesSubplot:xlabel='browser', ylabel='count'>"
      ]
     },
     "execution_count": 316,
     "metadata": {},
     "output_type": "execute_result"
    },
    {
     "data": {
      "image/png": "[encoded data removed]",
      "text/plain": [
       "<Figure size 432x288 with 1 Axes>"
      ]
     },
     "metadata": {},
     "output_type": "display_data"
    }
   ],
   "source": [
    "sns.countplot(x = 'browser', data = df1, hue = 'target')"
   ]
  },
  {
   "cell_type": "code",
   "execution_count": 317,
   "metadata": {},
   "outputs": [
    {
     "data": {
      "text/plain": [
       "<AxesSubplot:xlabel='sex', ylabel='count'>"
      ]
     },
     "execution_count": 317,
     "metadata": {},
     "output_type": "execute_result"
    },
    {
     "data": {
      "image/png": "[encoded data removed]",
      "text/plain": [
       "<Figure size 432x288 with 1 Axes>"
      ]
     },
     "metadata": {},
     "output_type": "display_data"
    }
   ],
   "source": [
    "sns.countplot(x = 'sex', data = df1, hue = 'target')"
   ]
  },
  {
   "cell_type": "code",
   "execution_count": 318,
   "metadata": {},
   "outputs": [
    {
     "data": {
      "text/plain": [
       "signup_time       151112\n",
       "purchase_time     150679\n",
       "purchase_value       122\n",
       "device_id         137956\n",
       "source                 3\n",
       "browser                5\n",
       "sex                    2\n",
       "age                   58\n",
       "ip_address        143512\n",
       "target                 2\n",
       "country_name         182\n",
       "time_delta        143513\n",
       "dtype: int64"
      ]
     },
     "execution_count": 318,
     "metadata": {},
     "output_type": "execute_result"
    }
   ],
   "source": [
    "df1.nunique()"
   ]
  },
  {
   "cell_type": "code",
   "execution_count": 319,
   "metadata": {},
   "outputs": [
    {
     "data": {
      "text/plain": [
       "United States      58049\n",
       "Unknown country    21966\n",
       "China              12038\n",
       "Japan               7306\n",
       "United Kingdom      4490\n",
       "                   ...  \n",
       "Saint Martin           1\n",
       "Madagascar             1\n",
       "Gambia                 1\n",
       "Yemen                  1\n",
       "Tajikistan             1\n",
       "Name: country_name, Length: 182, dtype: int64"
      ]
     },
     "execution_count": 319,
     "metadata": {},
     "output_type": "execute_result"
    }
   ],
   "source": [
    "df1['country_name'].value_counts()"
   ]
  },
  {
   "cell_type": "code",
   "execution_count": 320,
   "metadata": {},
   "outputs": [],
   "source": [
    "# Drop lines with few fraud occurences per country_name (< 50 occurences)\n",
    "country_counts = df1['country_name'].value_counts()\n",
    "to_keep = country_counts[country_counts > 50].index.values\n",
    "df1 = df1.loc[df1['country_name'].isin(to_keep), :]"
   ]
  },
  {
   "cell_type": "code",
   "execution_count": 324,
   "metadata": {},
   "outputs": [
    {
     "data": {
      "text/html": [
       "<div>\n",
       "<style scoped>\n",
       "    .dataframe tbody tr th:only-of-type {\n",
       "        vertical-align: middle;\n",
       "    }\n",
       "\n",
       "    .dataframe tbody tr th {\n",
       "        vertical-align: top;\n",
       "    }\n",
       "\n",
       "    .dataframe thead th {\n",
       "        text-align: right;\n",
       "    }\n",
       "</style>\n",
       "<table border=\"1\" class=\"dataframe\">\n",
       "  <thead>\n",
       "    <tr style=\"text-align: right;\">\n",
       "      <th></th>\n",
       "      <th>purchase_value</th>\n",
       "      <th>source</th>\n",
       "      <th>browser</th>\n",
       "      <th>sex</th>\n",
       "      <th>age</th>\n",
       "      <th>target</th>\n",
       "      <th>country_name</th>\n",
       "      <th>time_delta</th>\n",
       "      <th>year_purchase</th>\n",
       "      <th>month_purchase</th>\n",
       "      <th>day_purchase</th>\n",
       "      <th>hour_purchase</th>\n",
       "      <th>min_purchase</th>\n",
       "      <th>second_purchase</th>\n",
       "    </tr>\n",
       "  </thead>\n",
       "  <tbody>\n",
       "    <tr>\n",
       "      <th>0</th>\n",
       "      <td>34</td>\n",
       "      <td>SEO</td>\n",
       "      <td>Chrome</td>\n",
       "      <td>M</td>\n",
       "      <td>39</td>\n",
       "      <td>normal</td>\n",
       "      <td>Japan</td>\n",
       "      <td>4506682.0</td>\n",
       "      <td>2015</td>\n",
       "      <td>4</td>\n",
       "      <td>18</td>\n",
       "      <td>2</td>\n",
       "      <td>47</td>\n",
       "      <td>11</td>\n",
       "    </tr>\n",
       "    <tr>\n",
       "      <th>1</th>\n",
       "      <td>16</td>\n",
       "      <td>Ads</td>\n",
       "      <td>Chrome</td>\n",
       "      <td>F</td>\n",
       "      <td>53</td>\n",
       "      <td>normal</td>\n",
       "      <td>United States</td>\n",
       "      <td>17944.0</td>\n",
       "      <td>2015</td>\n",
       "      <td>6</td>\n",
       "      <td>8</td>\n",
       "      <td>1</td>\n",
       "      <td>38</td>\n",
       "      <td>54</td>\n",
       "    </tr>\n",
       "    <tr>\n",
       "      <th>2</th>\n",
       "      <td>15</td>\n",
       "      <td>SEO</td>\n",
       "      <td>Opera</td>\n",
       "      <td>M</td>\n",
       "      <td>53</td>\n",
       "      <td>fraudulous</td>\n",
       "      <td>United States</td>\n",
       "      <td>1.0</td>\n",
       "      <td>2015</td>\n",
       "      <td>1</td>\n",
       "      <td>1</td>\n",
       "      <td>18</td>\n",
       "      <td>52</td>\n",
       "      <td>45</td>\n",
       "    </tr>\n",
       "    <tr>\n",
       "      <th>3</th>\n",
       "      <td>44</td>\n",
       "      <td>SEO</td>\n",
       "      <td>Safari</td>\n",
       "      <td>M</td>\n",
       "      <td>41</td>\n",
       "      <td>normal</td>\n",
       "      <td>Unknown country</td>\n",
       "      <td>492085.0</td>\n",
       "      <td>2015</td>\n",
       "      <td>5</td>\n",
       "      <td>4</td>\n",
       "      <td>13</td>\n",
       "      <td>54</td>\n",
       "      <td>50</td>\n",
       "    </tr>\n",
       "    <tr>\n",
       "      <th>4</th>\n",
       "      <td>39</td>\n",
       "      <td>Ads</td>\n",
       "      <td>Safari</td>\n",
       "      <td>M</td>\n",
       "      <td>45</td>\n",
       "      <td>normal</td>\n",
       "      <td>United States</td>\n",
       "      <td>4361461.0</td>\n",
       "      <td>2015</td>\n",
       "      <td>9</td>\n",
       "      <td>9</td>\n",
       "      <td>18</td>\n",
       "      <td>40</td>\n",
       "      <td>53</td>\n",
       "    </tr>\n",
       "  </tbody>\n",
       "</table>\n",
       "</div>"
      ],
      "text/plain": [
       "   purchase_value source browser sex  age      target     country_name  \\\n",
       "0              34    SEO  Chrome   M   39      normal            Japan   \n",
       "1              16    Ads  Chrome   F   53      normal    United States   \n",
       "2              15    SEO   Opera   M   53  fraudulous    United States   \n",
       "3              44    SEO  Safari   M   41      normal  Unknown country   \n",
       "4              39    Ads  Safari   M   45      normal    United States   \n",
       "\n",
       "   time_delta  year_purchase  month_purchase  day_purchase  hour_purchase  \\\n",
       "0   4506682.0           2015               4            18              2   \n",
       "1     17944.0           2015               6             8              1   \n",
       "2         1.0           2015               1             1             18   \n",
       "3    492085.0           2015               5             4             13   \n",
       "4   4361461.0           2015               9             9             18   \n",
       "\n",
       "   min_purchase  second_purchase  \n",
       "0            47               11  \n",
       "1            38               54  \n",
       "2            52               45  \n",
       "3            54               50  \n",
       "4            40               53  "
      ]
     },
     "execution_count": 324,
     "metadata": {},
     "output_type": "execute_result"
    }
   ],
   "source": [
    "df1['year_purchase'] = pd.DatetimeIndex(df1['purchase_time']).year\n",
    "df1['month_purchase'] = pd.DatetimeIndex(df1['purchase_time']).month\n",
    "df1['day_purchase'] = pd.DatetimeIndex(df1['purchase_time']).day\n",
    "df1['hour_purchase'] = pd.DatetimeIndex(df1['purchase_time']).hour\n",
    "df1['min_purchase'] = pd.DatetimeIndex(df1['purchase_time']).minute\n",
    "df1['second_purchase'] = pd.DatetimeIndex(df1['purchase_time']).second\n",
    "\n",
    "# Drop columns with too many unique values\n",
    "df1 = df1.drop(['signup_time', 'purchase_time', 'device_id'], axis=1)\n",
    "\n",
    "# Drop ip address (not useful as raw number, we will rather use the country_name deduced from the ip)\n",
    "df1 = df1.drop(['ip_address'], axis=1)\n",
    "df1.head()"
   ]
  },
  {
   "cell_type": "code",
   "execution_count": 325,
   "metadata": {},
   "outputs": [
    {
     "data": {
      "text/plain": [
       "<AxesSubplot:xlabel='month_purchase', ylabel='count'>"
      ]
     },
     "execution_count": 325,
     "metadata": {},
     "output_type": "execute_result"
    },
    {
     "data": {
      "image/png": "[encoded data removed]",
      "text/plain": [
       "<Figure size 432x288 with 1 Axes>"
      ]
     },
     "metadata": {},
     "output_type": "display_data"
    }
   ],
   "source": [
    "sns.countplot(x = 'month_purchase', data = df1, hue = 'target')"
   ]
  },
  {
   "cell_type": "markdown",
   "metadata": {},
   "source": [
    "According to this plot, and assuming that fraud doesn't depend of the month (which seems to be evident...) we could focus our training on the January month, then test our model \n",
    "on the other months. This would be a good idea if our dataset where small, but here we have more than 100.000 samples, so we could use the entire set."
   ]
  },
  {
   "cell_type": "code",
   "execution_count": 326,
   "metadata": {},
   "outputs": [],
   "source": [
    "# to reduce runtime, eliminate 2015 year (always the same)\n",
    "#df1 = df1.drop(['month_purchase'] , axis = 1)\n",
    "df1 = df1.drop(['year_purchase'] , axis = 1)"
   ]
  },
  {
   "cell_type": "code",
   "execution_count": null,
   "metadata": {},
   "outputs": [],
   "source": [
    "#df1 = df1.sample(10000)"
   ]
  },
  {
   "cell_type": "markdown",
   "metadata": {},
   "source": [
    "### Preprocessing this classification problem"
   ]
  },
  {
   "cell_type": "code",
   "execution_count": 327,
   "metadata": {},
   "outputs": [
    {
     "name": "stdout",
     "output_type": "stream",
     "text": [
      "Separating labels from features...\n",
      "...Done.\n",
      "0        normal\n",
      "1        normal\n",
      "2    fraudulous\n",
      "3        normal\n",
      "4        normal\n",
      "Name: target, dtype: object\n",
      "\n",
      "   purchase_value source browser sex  age     country_name  time_delta  \\\n",
      "0              34    SEO  Chrome   M   39            Japan   4506682.0   \n",
      "1              16    Ads  Chrome   F   53    United States     17944.0   \n",
      "2              15    SEO   Opera   M   53    United States         1.0   \n",
      "3              44    SEO  Safari   M   41  Unknown country    492085.0   \n",
      "4              39    Ads  Safari   M   45    United States   4361461.0   \n",
      "\n",
      "   month_purchase  day_purchase  hour_purchase  min_purchase  second_purchase  \n",
      "0               4            18              2            47               11  \n",
      "1               6             8              1            38               54  \n",
      "2               1             1             18            52               45  \n",
      "3               5             4             13            54               50  \n",
      "4               9             9             18            40               53  \n"
     ]
    }
   ],
   "source": [
    "# Separate target variable y from features X\n",
    "target_name = 'target'\n",
    "\n",
    "print(\"Separating labels from features...\")\n",
    "y = df1.loc[:,target_name]\n",
    "X = df1.loc[:,[c for c in df1.columns if c!=target_name]] \n",
    "print(\"...Done.\")\n",
    "print(y.head())\n",
    "print()\n",
    "print(X.head())"
   ]
  },
  {
   "cell_type": "code",
   "execution_count": 328,
   "metadata": {},
   "outputs": [
    {
     "data": {
      "text/plain": [
       "pandas.core.frame.DataFrame"
      ]
     },
     "execution_count": 328,
     "metadata": {},
     "output_type": "execute_result"
    }
   ],
   "source": [
    "type(X)"
   ]
  },
  {
   "cell_type": "code",
   "execution_count": 329,
   "metadata": {},
   "outputs": [
    {
     "name": "stdout",
     "output_type": "stream",
     "text": [
      "Convert pandas DataFrames to numpy arrays...\n",
      "...Done\n",
      "[[34 'SEO' 'Chrome' 'M' 39 'Japan' 4506682.0 4 18 2 47 11]\n",
      " [16 'Ads' 'Chrome' 'F' 53 'United States' 17944.0 6 8 1 38 54]\n",
      " [15 'SEO' 'Opera' 'M' 53 'United States' 1.0 1 1 18 52 45]\n",
      " [44 'SEO' 'Safari' 'M' 41 'Unknown country' 492085.0 5 4 13 54 50]\n",
      " [39 'Ads' 'Safari' 'M' 45 'United States' 4361461.0 9 9 18 40 53]]\n",
      "\n",
      "['normal', 'normal', 'fraudulous', 'normal', 'normal']\n"
     ]
    }
   ],
   "source": [
    "# Convert pandas DataFrames to numpy arrays before using scikit-learn\n",
    "print(\"Convert pandas DataFrames to numpy arrays...\")\n",
    "X = X.values\n",
    "y = y.tolist()\n",
    "print(\"...Done\")\n",
    "print(X[0:5,:])\n",
    "print()\n",
    "print(y[0:5])"
   ]
  },
  {
   "cell_type": "code",
   "execution_count": 330,
   "metadata": {},
   "outputs": [
    {
     "name": "stdout",
     "output_type": "stream",
     "text": [
      "Dividing into train and test sets...\n",
      "number of test samples : 29987\n",
      "number of training samples: 119946\n"
     ]
    }
   ],
   "source": [
    "# Divide dataset into train set & test set \n",
    "print(\"Dividing into train and test sets...\")\n",
    "X_train, X_test, y_train, y_test = train_test_split(X, y, test_size=0.2, random_state=0, stratify=y) # stratified splitting because we have an imbalanced dataset !!\n",
    "\n",
    "print(\"number of test samples :\", X_test.shape[0])\n",
    "print(\"number of training samples:\", X_train.shape[0])"
   ]
  },
  {
   "cell_type": "code",
   "execution_count": 331,
   "metadata": {},
   "outputs": [
    {
     "name": "stdout",
     "output_type": "stream",
     "text": [
      "Performing preprocessings on train set...\n",
      "...Done.\n",
      "  (0, 0)\t-1.2509616297836226\n",
      "  (0, 1)\t-1.2929590198922396\n",
      "  (0, 2)\t-0.8117221645682801\n",
      "  (0, 3)\t-0.004570239811738985\n",
      "  (0, 4)\t-0.487010249983952\n",
      "  (0, 5)\t0.6456595764762324\n",
      "  (0, 6)\t-0.25424286363603427\n",
      "  (0, 7)\t0.7195834297067405\n",
      "  (0, 9)\t1.0\n",
      "  (0, 50)\t1.0\n",
      "  (1, 0)\t0.9815277491279603\n",
      "  (1, 1)\t1.7247472183110197\n",
      "  (1, 2)\t1.1768233964240562\n",
      "  (1, 3)\t1.4983275928375726\n",
      "  (1, 4)\t-1.3942998164069005\n",
      "  (1, 5)\t1.5136873833628872\n",
      "  (1, 6)\t-0.02328829452242531\n",
      "  (1, 7)\t1.7007704376725665\n",
      "  (1, 14)\t1.0\n",
      "  (1, 87)\t1.0\n",
      "  (2, 0)\t-0.8698049065548157\n",
      "  (2, 1)\t1.7247472183110197\n",
      "  (2, 2)\t-1.5787909114209204\n",
      "  (2, 3)\t-1.8831925306233783\n",
      "  (2, 4)\t-1.507711012209769\n",
      "  :\t:\n",
      "  (2, 10)\t1.0\n",
      "  (2, 14)\t1.0\n",
      "  (2, 88)\t1.0\n",
      "  (3, 0)\t0.7092729468216696\n",
      "  (3, 1)\t-0.2483683989757268\n",
      "  (3, 2)\t0.1485835287131838\n",
      "  (3, 3)\t-0.004570239811738985\n",
      "  (3, 4)\t0.6471017080447334\n",
      "  (3, 5)\t-0.07769692926264662\n",
      "  (3, 6)\t0.2654049168695859\n",
      "  (3, 7)\t-1.0696399377603543\n",
      "  (3, 9)\t1.0\n",
      "  (3, 14)\t1.0\n",
      "  (3, 87)\t1.0\n",
      "  (4, 0)\t-1.3598635507061387\n",
      "  (4, 1)\t-0.1323027744294476\n",
      "  (4, 2)\t0.6542544228454499\n",
      "  (4, 3)\t-1.1317436142987225\n",
      "  (4, 4)\t0.8739240996504706\n",
      "  (4, 5)\t-1.2350673384448532\n",
      "  (4, 6)\t-0.08102693680082755\n",
      "  (4, 7)\t-1.1850737034033927\n",
      "  (4, 8)\t1.0\n",
      "  (4, 11)\t1.0\n",
      "  (4, 87)\t1.0\n",
      "Performing preprocessings on test set...\n",
      "...Done.\n",
      "  (0, 0)\t-1.3598635507061387\n",
      "  (0, 1)\t-0.2483683989757268\n",
      "  (0, 2)\t0.09563348423093225\n",
      "  (0, 3)\t-0.38029469797406684\n",
      "  (0, 4)\t0.6471017080447334\n",
      "  (0, 5)\t-1.6690812418881806\n",
      "  (0, 6)\t-0.8893679286984589\n",
      "  (0, 7)\t-1.3582243518679502\n",
      "  (0, 87)\t1.0\n",
      "  (1, 0)\t1.5260373537405414\n",
      "  (1, 1)\t0.5640909728482276\n",
      "  (1, 2)\t-0.39986229792722944\n",
      "  (1, 3)\t0.37115421835058887\n",
      "  (1, 4)\t-1.2808886206040317\n",
      "  (1, 5)\t-0.22236823041042245\n",
      "  (1, 6)\t-1.2935384246472745\n",
      "  (1, 7)\t-1.2427905862249118\n",
      "  (1, 9)\t1.0\n",
      "  (1, 14)\t1.0\n",
      "  (1, 87)\t1.0\n",
      "  (2, 0)\t1.9071940769693483\n",
      "  (2, 1)\t-1.0608277707996812\n",
      "  (2, 2)\t0.5843100418075425\n",
      "  (2, 3)\t0.7468786765129167\n",
      "  (2, 4)\t-1.2808886206040317\n",
      "  :\t:\n",
      "  (2, 7)\t-0.377037343902124\n",
      "  (2, 10)\t1.0\n",
      "  (2, 14)\t1.0\n",
      "  (2, 87)\t1.0\n",
      "  (3, 0)\t-0.8153539460935576\n",
      "  (3, 1)\t-0.4804996480682852\n",
      "  (3, 2)\t0.8294302097396244\n",
      "  (3, 3)\t-0.004570239811738985\n",
      "  (3, 4)\t-0.487010249983952\n",
      "  (3, 5)\t1.0796734799195598\n",
      "  (3, 6)\t-0.02328829452242531\n",
      "  (3, 7)\t-1.011923054938835\n",
      "  (3, 11)\t1.0\n",
      "  (3, 88)\t1.0\n",
      "  (4, 0)\t0.055861421286572295\n",
      "  (4, 1)\t0.7962222219407861\n",
      "  (4, 2)\t0.4181066327076181\n",
      "  (4, 3)\t-0.004570239811738985\n",
      "  (4, 4)\t-0.6004214457868206\n",
      "  (4, 5)\t0.935002178771784\n",
      "  (4, 6)\t-0.25424286363603427\n",
      "  (4, 7)\t0.3155652499561062\n",
      "  (4, 11)\t1.0\n",
      "  (4, 14)\t1.0\n",
      "  (4, 83)\t1.0\n"
     ]
    }
   ],
   "source": [
    "# ENCODING FEATURES IN SUITABLE FORMAT\n",
    "\n",
    "# Create pipeline for numeric features\n",
    "numeric_features = [0,4,6,7,8,9,10,11] # Positions of numeric columns in X_train/X_test\n",
    "numeric_transformer = Pipeline(steps=[\n",
    "    ('scaler', StandardScaler())\n",
    "])\n",
    "\n",
    "# Create pipeline for categorical features\n",
    "categorical_features = [1, 2, 3, 5] # Positions of categorical columns in X_train/X_test\n",
    "categorical_transformer = Pipeline(\n",
    "    steps=[\n",
    "    ('encoder', OneHotEncoder(drop='first')) # first column will be dropped to avoid creating correlations between features\n",
    "    ])\n",
    "\n",
    "# ColumnTransformer make a preprocessor object that describes all the treatments to be done\n",
    "preprocessor = ColumnTransformer(\n",
    "    transformers=[\n",
    "        ('num', numeric_transformer, numeric_features),\n",
    "        ('cat', categorical_transformer, categorical_features)\n",
    "    ])\n",
    "\n",
    "# Preprocessing on train set\n",
    "print(\"Performing preprocessings on train set...\")\n",
    "X_train = preprocessor.fit_transform(X_train)\n",
    "print('...Done.')\n",
    "print(X_train[0:5,:])\n",
    "\n",
    "\n",
    "# Preprocessing on test set\n",
    "print(\"Performing preprocessings on test set...\")\n",
    "X_test = preprocessor.transform(X_test) # Don't fit again !! The test set is used for validating decisions\n",
    "print('...Done.')\n",
    "print(X_test[0:5,:])"
   ]
  },
  {
   "cell_type": "code",
   "execution_count": 332,
   "metadata": {},
   "outputs": [
    {
     "data": {
      "text/plain": [
       "['normal',\n",
       " 'normal',\n",
       " 'normal',\n",
       " 'normal',\n",
       " 'normal',\n",
       " 'normal',\n",
       " 'normal',\n",
       " 'normal',\n",
       " 'normal',\n",
       " 'normal']"
      ]
     },
     "execution_count": 332,
     "metadata": {},
     "output_type": "execute_result"
    }
   ],
   "source": [
    "y_test[:10]"
   ]
  },
  {
   "cell_type": "code",
   "execution_count": 333,
   "metadata": {},
   "outputs": [],
   "source": [
    "#Encoding target variable (not really necessary here as target variable is already in a binary format but useful for categorical or numerical target variable)\n",
    "from sklearn.preprocessing import LabelEncoder\n",
    "\n",
    "encoder = LabelEncoder()\n",
    "y_train = encoder.fit_transform(y_train)\n",
    "y_test = encoder.transform(y_test)"
   ]
  },
  {
   "cell_type": "code",
   "execution_count": 334,
   "metadata": {},
   "outputs": [
    {
     "data": {
      "text/plain": [
       "array([1, 1, 1, ..., 1, 1, 1])"
      ]
     },
     "execution_count": 334,
     "metadata": {},
     "output_type": "execute_result"
    }
   ],
   "source": [
    "# now encoded\n",
    "y_test"
   ]
  },
  {
   "cell_type": "code",
   "execution_count": null,
   "metadata": {},
   "outputs": [],
   "source": []
  },
  {
   "cell_type": "markdown",
   "metadata": {},
   "source": [
    "## First Model : Logistic Regression"
   ]
  },
  {
   "cell_type": "code",
   "execution_count": 335,
   "metadata": {},
   "outputs": [
    {
     "name": "stdout",
     "output_type": "stream",
     "text": [
      "Accuracy for Logistic Regression model is : \n",
      "0.9296028278920866\n"
     ]
    }
   ],
   "source": [
    "# Evaluate model with Logistic Regression\n",
    "\n",
    "from sklearn.linear_model import LogisticRegression\n",
    "\n",
    "model = LogisticRegression(max_iter = 1000)\n",
    "model.fit(X_train, y_train)\n",
    "\n",
    "accuracy = model.score(X_test, y_test)\n",
    "print(\"Accuracy for Logistic Regression model is : \\n{}\".format(accuracy))"
   ]
  },
  {
   "cell_type": "markdown",
   "metadata": {},
   "source": [
    "Our predictions are good. Just look at the distribution of test set with a cross-validation"
   ]
  },
  {
   "cell_type": "code",
   "execution_count": 336,
   "metadata": {},
   "outputs": [
    {
     "data": {
      "text/plain": [
       "array([0.93414471, 0.9348116 , 0.93313323, 0.92813073, 0.93396698])"
      ]
     },
     "execution_count": 336,
     "metadata": {},
     "output_type": "execute_result"
    }
   ],
   "source": [
    "from sklearn.model_selection import cross_val_score\n",
    "scores = cross_val_score(model, X_test, y_test, cv=5)\n",
    "scores"
   ]
  },
  {
   "cell_type": "markdown",
   "metadata": {},
   "source": [
    "Results are nearly the same, so our dataset is well balanced (because results doesn't depend of the splitting, or very weakly)"
   ]
  },
  {
   "cell_type": "code",
   "execution_count": 337,
   "metadata": {},
   "outputs": [
    {
     "data": {
      "text/plain": [
       "(0.9, 0.96)"
      ]
     },
     "execution_count": 337,
     "metadata": {},
     "output_type": "execute_result"
    },
    {
     "data": {
      "image/png": "[encoded data removed]",
      "text/plain": [
       "<Figure size 576x288 with 1 Axes>"
      ]
     },
     "metadata": {},
     "output_type": "display_data"
    }
   ],
   "source": [
    "import matplotlib.pyplot as plt\n",
    "fig, ax = plt.subplots(1, 1, figsize=(8, 4))\n",
    "ax.plot(scores)\n",
    "ax.set_title('Accuracy-score for cross validation with 5 folds');\n",
    "ax.set_ylim(0.90, 0.96)"
   ]
  },
  {
   "cell_type": "code",
   "execution_count": 338,
   "metadata": {},
   "outputs": [
    {
     "data": {
      "text/html": [
       "<div>\n",
       "<style scoped>\n",
       "    .dataframe tbody tr th:only-of-type {\n",
       "        vertical-align: middle;\n",
       "    }\n",
       "\n",
       "    .dataframe tbody tr th {\n",
       "        vertical-align: top;\n",
       "    }\n",
       "\n",
       "    .dataframe thead th {\n",
       "        text-align: right;\n",
       "    }\n",
       "</style>\n",
       "<table border=\"1\" class=\"dataframe\">\n",
       "  <thead>\n",
       "    <tr style=\"text-align: right;\">\n",
       "      <th></th>\n",
       "      <th>prediction</th>\n",
       "    </tr>\n",
       "  </thead>\n",
       "  <tbody>\n",
       "    <tr>\n",
       "      <th>0</th>\n",
       "      <td>1</td>\n",
       "    </tr>\n",
       "    <tr>\n",
       "      <th>1</th>\n",
       "      <td>1</td>\n",
       "    </tr>\n",
       "    <tr>\n",
       "      <th>2</th>\n",
       "      <td>1</td>\n",
       "    </tr>\n",
       "    <tr>\n",
       "      <th>3</th>\n",
       "      <td>1</td>\n",
       "    </tr>\n",
       "    <tr>\n",
       "      <th>4</th>\n",
       "      <td>1</td>\n",
       "    </tr>\n",
       "  </tbody>\n",
       "</table>\n",
       "</div>"
      ],
      "text/plain": [
       "   prediction\n",
       "0           1\n",
       "1           1\n",
       "2           1\n",
       "3           1\n",
       "4           1"
      ]
     },
     "execution_count": 338,
     "metadata": {},
     "output_type": "execute_result"
    }
   ],
   "source": [
    "# diplay first few predictions\n",
    "y_pred = model.predict(X_test)\n",
    "#y_pred[0:5]\n",
    "df_y_pred = pd.DataFrame(y_pred, columns = ['prediction'])\n",
    "df_y_pred.head()"
   ]
  },
  {
   "cell_type": "code",
   "execution_count": 339,
   "metadata": {},
   "outputs": [
    {
     "data": {
      "text/plain": [
       "(29987, 1)"
      ]
     },
     "execution_count": 339,
     "metadata": {},
     "output_type": "execute_result"
    }
   ],
   "source": [
    "df_y_pred.shape"
   ]
  },
  {
   "cell_type": "code",
   "execution_count": 340,
   "metadata": {},
   "outputs": [
    {
     "name": "stdout",
     "output_type": "stream",
     "text": [
      "f1-score on test set :  0.9625835268260693\n"
     ]
    }
   ],
   "source": [
    "print(\"f1-score on test set : \", f1_score(y_test, y_pred))"
   ]
  },
  {
   "cell_type": "code",
   "execution_count": 341,
   "metadata": {},
   "outputs": [
    {
     "name": "stdout",
     "output_type": "stream",
     "text": [
      "--- Test set ---\n",
      "Precision :  0.9284053610503282\n",
      "Recall :  0.99937433292849\n"
     ]
    }
   ],
   "source": [
    "from sklearn.metrics import precision_score, recall_score\n",
    "print('--- Test set ---')\n",
    "print('Precision : ', precision_score(y_test, y_pred))\n",
    "print('Recall : ', recall_score(y_test, y_pred))"
   ]
  },
  {
   "cell_type": "markdown",
   "metadata": {},
   "source": []
  },
  {
   "cell_type": "code",
   "execution_count": 342,
   "metadata": {},
   "outputs": [
    {
     "data": {
      "text/plain": [
       "<AxesSubplot:>"
      ]
     },
     "execution_count": 342,
     "metadata": {},
     "output_type": "execute_result"
    },
    {
     "data": {
      "image/png": "[encoded data removed]",
      "text/plain": [
       "<Figure size 432x288 with 2 Axes>"
      ]
     },
     "metadata": {},
     "output_type": "display_data"
    }
   ],
   "source": [
    "from sklearn.metrics import confusion_matrix\n",
    "cm = confusion_matrix(y_test, y_pred)\n",
    "sns.heatmap(cm, annot=True, fmt=\"d\")\n",
    "# True values on the vertical axis, predicted values on the horizontal one"
   ]
  },
  {
   "cell_type": "markdown",
   "metadata": {},
   "source": [
    "### Interpreting the scores\n",
    "\n",
    "* The precision represents the \"purity\" of the predictions \"1\". In other words, it's the ratio of examples being predicted as 1s that are indeed true 1s : $P = \\frac{TP}{TP + FP}$ \n",
    "* The recall represents the ability to detect the true \"1\". It's the ratio of examples that are true 1s and have been predicted as 1s : $R = \\frac{TP}{TP + FN}$ \n",
    "* From the formulae above, one can see the the precision is maximal when there are no false positives, and the recall is maximal when there are no false negatives\n",
    "\n",
    "#### What does that mean in the context of fraud detection?\n",
    "\n",
    "* False positives represent transactions that are reported as frauds but in fact aren't\n",
    "* False negatives represent frauds that are not detected (this is the kind of error that we want to avoid)\n",
    "* In this case, we would like to detect as much frauds as possible while having a number of false positives that is as close as possible to 0 (because we want to avoid fake alerts that would be time-consuming for the company)\n",
    "\n",
    "#### What is our model doing here?\n",
    "* Our model's precision is almost perfect (P=0.95) which means there are very few false positives\n",
    "* Our model's recall is much smaller with 26% of frauds detected: not enough !\n"
   ]
  },
  {
   "cell_type": "code",
   "execution_count": null,
   "metadata": {},
   "outputs": [],
   "source": []
  },
  {
   "cell_type": "markdown",
   "metadata": {},
   "source": [
    "## Second model : Decision Tree"
   ]
  },
  {
   "cell_type": "code",
   "execution_count": null,
   "metadata": {},
   "outputs": [],
   "source": [
    "### Preprocessing ###\n",
    "# With a decision tree, there's no need to normalize the numerical variables!\n",
    "\n",
    "# only Encode target label with LabelEncoder()\n"
   ]
  },
  {
   "cell_type": "code",
   "execution_count": 343,
   "metadata": {},
   "outputs": [
    {
     "data": {
      "text/plain": [
       "DecisionTreeClassifier()"
      ]
     },
     "execution_count": 343,
     "metadata": {},
     "output_type": "execute_result"
    }
   ],
   "source": [
    "from sklearn.tree import DecisionTreeClassifier\n",
    "model = DecisionTreeClassifier(criterion=\"gini\")\n",
    "model.fit(X_train,y_train)"
   ]
  },
  {
   "cell_type": "code",
   "execution_count": 344,
   "metadata": {},
   "outputs": [],
   "source": [
    "# diplay first few predictions\n",
    "y_pred = model.predict(X_test)"
   ]
  },
  {
   "cell_type": "code",
   "execution_count": 345,
   "metadata": {},
   "outputs": [
    {
     "name": "stdout",
     "output_type": "stream",
     "text": [
      "f1-score on test set :  0.9461420010760467\n"
     ]
    }
   ],
   "source": [
    "print(\"f1-score on test set : \", f1_score(y_test, y_pred))"
   ]
  },
  {
   "cell_type": "code",
   "execution_count": 346,
   "metadata": {},
   "outputs": [
    {
     "name": "stdout",
     "output_type": "stream",
     "text": [
      "--- Test set ---\n",
      "Precision :  0.9539468761690983\n",
      "Recall :  0.9384638033197159\n"
     ]
    }
   ],
   "source": [
    "from sklearn.metrics import precision_score, recall_score\n",
    "print('--- Test set ---')\n",
    "print('Precision : ', precision_score(y_test, y_pred))\n",
    "print('Recall : ', recall_score(y_test, y_pred))"
   ]
  },
  {
   "cell_type": "code",
   "execution_count": 347,
   "metadata": {},
   "outputs": [
    {
     "data": {
      "text/plain": [
       "<AxesSubplot:>"
      ]
     },
     "execution_count": 347,
     "metadata": {},
     "output_type": "execute_result"
    },
    {
     "data": {
      "image/png": "[encoded data removed]",
      "text/plain": [
       "<Figure size 432x288 with 2 Axes>"
      ]
     },
     "metadata": {},
     "output_type": "display_data"
    }
   ],
   "source": [
    "cm = confusion_matrix(y_test, y_pred)\n",
    "sns.heatmap(cm, annot=True, fmt=\"d\")\n",
    "# True values on the vertical axis, predicted values on the horizontal one"
   ]
  },
  {
   "cell_type": "code",
   "execution_count": 348,
   "metadata": {},
   "outputs": [
    {
     "data": {
      "text/plain": [
       "array([1, 1, 1, ..., 1, 1, 1])"
      ]
     },
     "execution_count": 348,
     "metadata": {},
     "output_type": "execute_result"
    }
   ],
   "source": [
    "y_test"
   ]
  },
  {
   "cell_type": "code",
   "execution_count": 356,
   "metadata": {},
   "outputs": [
    {
     "data": {
      "text/plain": [
       "array(['fraudulous', 'normal'], dtype='<U10')"
      ]
     },
     "execution_count": 356,
     "metadata": {},
     "output_type": "execute_result"
    }
   ],
   "source": [
    "class_names = encoder.inverse_transform([0, 1]) # for class R,L, B\n",
    "class_names"
   ]
  },
  {
   "cell_type": "code",
   "execution_count": 354,
   "metadata": {},
   "outputs": [
    {
     "data": {
      "text/plain": [
       "Index(['purchase_value', 'source', 'browser', 'sex', 'age', 'country_name',\n",
       "       'time_delta', 'month_purchase', 'day_purchase', 'hour_purchase',\n",
       "       'min_purchase', 'second_purchase'],\n",
       "      dtype='object')"
      ]
     },
     "execution_count": 354,
     "metadata": {},
     "output_type": "execute_result"
    }
   ],
   "source": [
    "df1 = df1.drop(['target'] , axis = 1)\n",
    "df1.columns"
   ]
  },
  {
   "cell_type": "code",
   "execution_count": 357,
   "metadata": {},
   "outputs": [
    {
     "data": {
      "text/plain": [
       "Index(['purchase_value', 'source', 'browser', 'sex', 'age', 'country_name',\n",
       "       'time_delta', 'month_purchase', 'day_purchase', 'hour_purchase',\n",
       "       'min_purchase', 'second_purchase'],\n",
       "      dtype='object')"
      ]
     },
     "execution_count": 357,
     "metadata": {},
     "output_type": "execute_result"
    }
   ],
   "source": [
    "df1.columns"
   ]
  },
  {
   "cell_type": "code",
   "execution_count": 358,
   "metadata": {},
   "outputs": [],
   "source": [
    "#from sklearn.tree import plot_tree\n",
    "\n",
    "#plt.figure(figsize=(20,20))\n",
    "#a = plot_tree(model, \n",
    "#             feature_names=df1.columns, \n",
    "#             class_names=class_names, \n",
    "#             filled=True, \n",
    "#             rounded=True, \n",
    "#             fontsize=14)"
   ]
  },
  {
   "cell_type": "markdown",
   "metadata": {},
   "source": [
    "# Second bis model : Random Forest\n",
    "\n",
    "We had some complexity in order to get more accurate results. The runtime is of course longer"
   ]
  },
  {
   "cell_type": "code",
   "execution_count": 359,
   "metadata": {},
   "outputs": [
    {
     "name": "stdout",
     "output_type": "stream",
     "text": [
      "Training model...\n",
      "Fitting 5 folds for each of 15 candidates, totalling 75 fits\n",
      "[CV] max_depth=4, n_estimators=100 ...................................\n"
     ]
    },
    {
     "name": "stderr",
     "output_type": "stream",
     "text": [
      "[Parallel(n_jobs=1)]: Using backend SequentialBackend with 1 concurrent workers.\n"
     ]
    },
    {
     "name": "stdout",
     "output_type": "stream",
     "text": [
      "[CV] .................... max_depth=4, n_estimators=100, total=   3.2s\n",
      "[CV] max_depth=4, n_estimators=100 ...................................\n"
     ]
    },
    {
     "name": "stderr",
     "output_type": "stream",
     "text": [
      "[Parallel(n_jobs=1)]: Done   1 out of   1 | elapsed:    3.2s remaining:    0.0s\n"
     ]
    },
    {
     "name": "stdout",
     "output_type": "stream",
     "text": [
      "[CV] .................... max_depth=4, n_estimators=100, total=   3.4s\n",
      "[CV] max_depth=4, n_estimators=100 ...................................\n",
      "[CV] .................... max_depth=4, n_estimators=100, total=   3.3s\n",
      "[CV] max_depth=4, n_estimators=100 ...................................\n",
      "[CV] .................... max_depth=4, n_estimators=100, total=   3.3s\n",
      "[CV] max_depth=4, n_estimators=100 ...................................\n",
      "[CV] .................... max_depth=4, n_estimators=100, total=   3.2s\n",
      "[CV] max_depth=4, n_estimators=120 ...................................\n",
      "[CV] .................... max_depth=4, n_estimators=120, total=   4.1s\n",
      "[CV] max_depth=4, n_estimators=120 ...................................\n",
      "[CV] .................... max_depth=4, n_estimators=120, total=   4.0s\n",
      "[CV] max_depth=4, n_estimators=120 ...................................\n",
      "[CV] .................... max_depth=4, n_estimators=120, total=   4.0s\n",
      "[CV] max_depth=4, n_estimators=120 ...................................\n",
      "[CV] .................... max_depth=4, n_estimators=120, total=   4.2s\n",
      "[CV] max_depth=4, n_estimators=120 ...................................\n",
      "[CV] .................... max_depth=4, n_estimators=120, total=   4.2s\n",
      "[CV] max_depth=4, n_estimators=140 ...................................\n",
      "[CV] .................... max_depth=4, n_estimators=140, total=   4.6s\n",
      "[CV] max_depth=4, n_estimators=140 ...................................\n",
      "[CV] .................... max_depth=4, n_estimators=140, total=   4.6s\n",
      "[CV] max_depth=4, n_estimators=140 ...................................\n",
      "[CV] .................... max_depth=4, n_estimators=140, total=   4.8s\n",
      "[CV] max_depth=4, n_estimators=140 ...................................\n",
      "[CV] .................... max_depth=4, n_estimators=140, total=   4.6s\n",
      "[CV] max_depth=4, n_estimators=140 ...................................\n",
      "[CV] .................... max_depth=4, n_estimators=140, total=   4.7s\n",
      "[CV] max_depth=4, n_estimators=160 ...................................\n",
      "[CV] .................... max_depth=4, n_estimators=160, total=   5.4s\n",
      "[CV] max_depth=4, n_estimators=160 ...................................\n",
      "[CV] .................... max_depth=4, n_estimators=160, total=   5.3s\n",
      "[CV] max_depth=4, n_estimators=160 ...................................\n",
      "[CV] .................... max_depth=4, n_estimators=160, total=   5.5s\n",
      "[CV] max_depth=4, n_estimators=160 ...................................\n",
      "[CV] .................... max_depth=4, n_estimators=160, total=   5.3s\n",
      "[CV] max_depth=4, n_estimators=160 ...................................\n",
      "[CV] .................... max_depth=4, n_estimators=160, total=   5.4s\n",
      "[CV] max_depth=4, n_estimators=180 ...................................\n",
      "[CV] .................... max_depth=4, n_estimators=180, total=   6.1s\n",
      "[CV] max_depth=4, n_estimators=180 ...................................\n",
      "[CV] .................... max_depth=4, n_estimators=180, total=   6.0s\n",
      "[CV] max_depth=4, n_estimators=180 ...................................\n",
      "[CV] .................... max_depth=4, n_estimators=180, total=   6.2s\n",
      "[CV] max_depth=4, n_estimators=180 ...................................\n",
      "[CV] .................... max_depth=4, n_estimators=180, total=   6.0s\n",
      "[CV] max_depth=4, n_estimators=180 ...................................\n",
      "[CV] .................... max_depth=4, n_estimators=180, total=   6.0s\n",
      "[CV] max_depth=6, n_estimators=100 ...................................\n",
      "[CV] .................... max_depth=6, n_estimators=100, total=   4.8s\n",
      "[CV] max_depth=6, n_estimators=100 ...................................\n",
      "[CV] .................... max_depth=6, n_estimators=100, total=   4.9s\n",
      "[CV] max_depth=6, n_estimators=100 ...................................\n",
      "[CV] .................... max_depth=6, n_estimators=100, total=   4.8s\n",
      "[CV] max_depth=6, n_estimators=100 ...................................\n",
      "[CV] .................... max_depth=6, n_estimators=100, total=   4.8s\n",
      "[CV] max_depth=6, n_estimators=100 ...................................\n",
      "[CV] .................... max_depth=6, n_estimators=100, total=   5.1s\n",
      "[CV] max_depth=6, n_estimators=120 ...................................\n",
      "[CV] .................... max_depth=6, n_estimators=120, total=   6.0s\n",
      "[CV] max_depth=6, n_estimators=120 ...................................\n",
      "[CV] .................... max_depth=6, n_estimators=120, total=   6.0s\n",
      "[CV] max_depth=6, n_estimators=120 ...................................\n",
      "[CV] .................... max_depth=6, n_estimators=120, total=   5.9s\n",
      "[CV] max_depth=6, n_estimators=120 ...................................\n",
      "[CV] .................... max_depth=6, n_estimators=120, total=   5.8s\n",
      "[CV] max_depth=6, n_estimators=120 ...................................\n",
      "[CV] .................... max_depth=6, n_estimators=120, total=   5.6s\n",
      "[CV] max_depth=6, n_estimators=140 ...................................\n",
      "[CV] .................... max_depth=6, n_estimators=140, total=   6.6s\n",
      "[CV] max_depth=6, n_estimators=140 ...................................\n",
      "[CV] .................... max_depth=6, n_estimators=140, total=   6.7s\n",
      "[CV] max_depth=6, n_estimators=140 ...................................\n",
      "[CV] .................... max_depth=6, n_estimators=140, total=   6.7s\n",
      "[CV] max_depth=6, n_estimators=140 ...................................\n",
      "[CV] .................... max_depth=6, n_estimators=140, total=   6.9s\n",
      "[CV] max_depth=6, n_estimators=140 ...................................\n",
      "[CV] .................... max_depth=6, n_estimators=140, total=   7.1s\n",
      "[CV] max_depth=6, n_estimators=160 ...................................\n",
      "[CV] .................... max_depth=6, n_estimators=160, total=   8.0s\n",
      "[CV] max_depth=6, n_estimators=160 ...................................\n",
      "[CV] .................... max_depth=6, n_estimators=160, total=   8.0s\n",
      "[CV] max_depth=6, n_estimators=160 ...................................\n",
      "[CV] .................... max_depth=6, n_estimators=160, total=   8.0s\n",
      "[CV] max_depth=6, n_estimators=160 ...................................\n",
      "[CV] .................... max_depth=6, n_estimators=160, total=   7.7s\n",
      "[CV] max_depth=6, n_estimators=160 ...................................\n",
      "[CV] .................... max_depth=6, n_estimators=160, total=   7.7s\n",
      "[CV] max_depth=6, n_estimators=180 ...................................\n",
      "[CV] .................... max_depth=6, n_estimators=180, total=   8.7s\n",
      "[CV] max_depth=6, n_estimators=180 ...................................\n",
      "[CV] .................... max_depth=6, n_estimators=180, total=   8.9s\n",
      "[CV] max_depth=6, n_estimators=180 ...................................\n",
      "[CV] .................... max_depth=6, n_estimators=180, total=   8.9s\n",
      "[CV] max_depth=6, n_estimators=180 ...................................\n",
      "[CV] .................... max_depth=6, n_estimators=180, total=   8.7s\n",
      "[CV] max_depth=6, n_estimators=180 ...................................\n",
      "[CV] .................... max_depth=6, n_estimators=180, total=   8.8s\n",
      "[CV] max_depth=8, n_estimators=100 ...................................\n",
      "[CV] .................... max_depth=8, n_estimators=100, total=   6.7s\n",
      "[CV] max_depth=8, n_estimators=100 ...................................\n",
      "[CV] .................... max_depth=8, n_estimators=100, total=   7.1s\n",
      "[CV] max_depth=8, n_estimators=100 ...................................\n",
      "[CV] .................... max_depth=8, n_estimators=100, total=   6.9s\n",
      "[CV] max_depth=8, n_estimators=100 ...................................\n",
      "[CV] .................... max_depth=8, n_estimators=100, total=   7.1s\n",
      "[CV] max_depth=8, n_estimators=100 ...................................\n",
      "[CV] .................... max_depth=8, n_estimators=100, total=   7.1s\n",
      "[CV] max_depth=8, n_estimators=120 ...................................\n",
      "[CV] .................... max_depth=8, n_estimators=120, total=   8.3s\n",
      "[CV] max_depth=8, n_estimators=120 ...................................\n",
      "[CV] .................... max_depth=8, n_estimators=120, total=   8.2s\n",
      "[CV] max_depth=8, n_estimators=120 ...................................\n",
      "[CV] .................... max_depth=8, n_estimators=120, total=   7.8s\n",
      "[CV] max_depth=8, n_estimators=120 ...................................\n",
      "[CV] .................... max_depth=8, n_estimators=120, total=   8.0s\n",
      "[CV] max_depth=8, n_estimators=120 ...................................\n",
      "[CV] .................... max_depth=8, n_estimators=120, total=   7.8s\n",
      "[CV] max_depth=8, n_estimators=140 ...................................\n",
      "[CV] .................... max_depth=8, n_estimators=140, total=   9.6s\n",
      "[CV] max_depth=8, n_estimators=140 ...................................\n",
      "[CV] .................... max_depth=8, n_estimators=140, total=   9.4s\n",
      "[CV] max_depth=8, n_estimators=140 ...................................\n",
      "[CV] .................... max_depth=8, n_estimators=140, total=   9.4s\n",
      "[CV] max_depth=8, n_estimators=140 ...................................\n",
      "[CV] .................... max_depth=8, n_estimators=140, total=   9.6s\n",
      "[CV] max_depth=8, n_estimators=140 ...................................\n",
      "[CV] .................... max_depth=8, n_estimators=140, total=   9.6s\n",
      "[CV] max_depth=8, n_estimators=160 ...................................\n",
      "[CV] .................... max_depth=8, n_estimators=160, total=  11.0s\n",
      "[CV] max_depth=8, n_estimators=160 ...................................\n",
      "[CV] .................... max_depth=8, n_estimators=160, total=  10.9s\n",
      "[CV] max_depth=8, n_estimators=160 ...................................\n",
      "[CV] .................... max_depth=8, n_estimators=160, total=  11.0s\n",
      "[CV] max_depth=8, n_estimators=160 ...................................\n",
      "[CV] .................... max_depth=8, n_estimators=160, total=  10.9s\n",
      "[CV] max_depth=8, n_estimators=160 ...................................\n",
      "[CV] .................... max_depth=8, n_estimators=160, total=  11.2s\n",
      "[CV] max_depth=8, n_estimators=180 ...................................\n",
      "[CV] .................... max_depth=8, n_estimators=180, total=  11.9s\n",
      "[CV] max_depth=8, n_estimators=180 ...................................\n",
      "[CV] .................... max_depth=8, n_estimators=180, total=  12.4s\n",
      "[CV] max_depth=8, n_estimators=180 ...................................\n",
      "[CV] .................... max_depth=8, n_estimators=180, total=  12.2s\n",
      "[CV] max_depth=8, n_estimators=180 ...................................\n",
      "[CV] .................... max_depth=8, n_estimators=180, total=  12.3s\n",
      "[CV] max_depth=8, n_estimators=180 ...................................\n",
      "[CV] .................... max_depth=8, n_estimators=180, total=  12.2s\n"
     ]
    },
    {
     "name": "stderr",
     "output_type": "stream",
     "text": [
      "[Parallel(n_jobs=1)]: Done  75 out of  75 | elapsed:  8.8min finished\n"
     ]
    },
    {
     "name": "stdout",
     "output_type": "stream",
     "text": [
      "...Done.\n",
      "Best hyperparameters : \n",
      "{'max_depth': 6, 'n_estimators': 100}\n",
      "Predictions on test set...\n",
      "...Done.\n",
      "[1 1 1 1 1]\n",
      "\n",
      "f1-score on test set :  0.9461420010760467\n"
     ]
    }
   ],
   "source": [
    "# Train Random Forest with grid search\n",
    "rf = RandomForestClassifier()\n",
    "\n",
    "params = {\n",
    "    'n_estimators': [100, 120, 140, 160, 180],\n",
    "    'max_depth': [4, 6, 8]\n",
    "}\n",
    "\n",
    "model = GridSearchCV(rf, param_grid = params, verbose=2)\n",
    "\n",
    "print(\"Training model...\")\n",
    "model.fit(X_train, y_train)\n",
    "print(\"...Done.\")\n",
    "\n",
    "print(\"Best hyperparameters : \")\n",
    "print(model.best_params_)\n",
    "\n",
    "\n",
    "# Predictions on test set\n",
    "print(\"Predictions on test set...\")\n",
    "Y_test_pred = model.predict(X_test)\n",
    "print(\"...Done.\")\n",
    "print(Y_test_pred[0:5])\n",
    "print()\n",
    "\n",
    "# Print scores\n",
    "print(\"f1-score on test set : \", f1_score(y_test, y_pred))"
   ]
  },
  {
   "cell_type": "markdown",
   "metadata": {},
   "source": [
    "**The f1-score has been multiplied by a factor 2 by introducing non-linearities in the model! Combined with the grid_search, we converged to a model with quite good performances and no overfitting. Let's have a look to the confusion matrix and other classification scores:**"
   ]
  },
  {
   "cell_type": "code",
   "execution_count": 360,
   "metadata": {},
   "outputs": [
    {
     "name": "stdout",
     "output_type": "stream",
     "text": [
      "--- Test set ---\n",
      "Precision :  0.9539468761690983\n",
      "Recall :  0.9384638033197159\n",
      "\n"
     ]
    }
   ],
   "source": [
    "print('--- Test set ---')\n",
    "print('Precision : ', precision_score(y_test, y_pred))\n",
    "print('Recall : ', recall_score(y_test, y_pred))\n",
    "print()"
   ]
  },
  {
   "cell_type": "code",
   "execution_count": 361,
   "metadata": {},
   "outputs": [
    {
     "data": {
      "text/plain": [
       "<AxesSubplot:>"
      ]
     },
     "execution_count": 361,
     "metadata": {},
     "output_type": "execute_result"
    },
    {
     "data": {
      "image/png": "[encoded data removed]",
      "text/plain": [
       "<Figure size 432x288 with 2 Axes>"
      ]
     },
     "metadata": {},
     "output_type": "display_data"
    }
   ],
   "source": [
    "sns.heatmap(confusion_matrix(y_test, y_pred), annot = True, fmt = \"d\")"
   ]
  },
  {
   "cell_type": "code",
   "execution_count": 362,
   "metadata": {},
   "outputs": [
    {
     "name": "stdout",
     "output_type": "stream",
     "text": [
      "              precision    recall  f1-score   support\n",
      "\n",
      "           0       1.00      0.54      0.70      2816\n",
      "           1       0.95      1.00      0.98     27171\n",
      "\n",
      "    accuracy                           0.96     29987\n",
      "   macro avg       0.98      0.77      0.84     29987\n",
      "weighted avg       0.96      0.96      0.95     29987\n",
      "\n"
     ]
    }
   ],
   "source": [
    "from sklearn.metrics import classification_report\n",
    "print(classification_report(y_true=y_test, y_pred=model.predict(X_test)))"
   ]
  },
  {
   "cell_type": "markdown",
   "metadata": {},
   "source": [
    "## Third Model: Naives Bayes\n",
    "    \n",
    "As we may consider that all features are independant and equal, we may also try a Naives Bayes model."
   ]
  },
  {
   "cell_type": "code",
   "execution_count": 363,
   "metadata": {},
   "outputs": [],
   "source": [
    "#A sparse matrix was passed, but dense data is required. Use X.toarray() to convert to a dense numpy array\n",
    "X_train=X_train.toarray()\n",
    "X_test=X_test.toarray()"
   ]
  },
  {
   "cell_type": "code",
   "execution_count": 364,
   "metadata": {},
   "outputs": [
    {
     "data": {
      "text/plain": [
       "GaussianNB()"
      ]
     },
     "execution_count": 364,
     "metadata": {},
     "output_type": "execute_result"
    }
   ],
   "source": [
    "import sklearn.naive_bayes as nb\n",
    "from sklearn.naive_bayes import GaussianNB\n",
    "\n",
    "model = nb.GaussianNB()\n",
    "model.fit(X_train,y_train)"
   ]
  },
  {
   "cell_type": "code",
   "execution_count": 365,
   "metadata": {},
   "outputs": [
    {
     "data": {
      "text/plain": [
       "0.7666533273306321"
      ]
     },
     "execution_count": 365,
     "metadata": {},
     "output_type": "execute_result"
    }
   ],
   "source": [
    "model.score(X_train, y_train)"
   ]
  },
  {
   "cell_type": "code",
   "execution_count": 366,
   "metadata": {},
   "outputs": [
    {
     "data": {
      "text/plain": [
       "0.7639310367826058"
      ]
     },
     "execution_count": 366,
     "metadata": {},
     "output_type": "execute_result"
    }
   ],
   "source": [
    "model.score(X_test, y_test)"
   ]
  },
  {
   "cell_type": "markdown",
   "metadata": {},
   "source": [
    "The gaussian model is inadequate, due to the non-gaussian distribution of data"
   ]
  },
  {
   "cell_type": "code",
   "execution_count": 367,
   "metadata": {},
   "outputs": [
    {
     "data": {
      "text/plain": [
       "MultinomialNB()"
      ]
     },
     "execution_count": 367,
     "metadata": {},
     "output_type": "execute_result"
    }
   ],
   "source": [
    "from sklearn.naive_bayes import MultinomialNB\n",
    "\n",
    "naivebayes = MultinomialNB()\n",
    "naivebayes_fit = naivebayes.fit(abs(X_train), abs(y_train))\n",
    "naivebayes_fit"
   ]
  },
  {
   "cell_type": "code",
   "execution_count": 368,
   "metadata": {},
   "outputs": [
    {
     "name": "stdout",
     "output_type": "stream",
     "text": [
      "The score for the train set with Naive Bayes (Multinomial NB) is : \n",
      "0.9062661531022294\n",
      "The score for the test set with Naive Bayes (Multinomial NB) is : \n",
      "0.9062260312802214\n"
     ]
    }
   ],
   "source": [
    "score_NB_train = naivebayes_fit.score(abs(X_train), abs(y_train))\n",
    "score_NB_test = naivebayes_fit.score(abs(X_test), abs(y_test))\n",
    "\n",
    "print(\"The score for the train set with Naive Bayes (Multinomial NB) is : \\n{}\".format(score_NB_train))\n",
    "print(\"The score for the test set with Naive Bayes (Multinomial NB) is : \\n{}\".format(score_NB_test))"
   ]
  },
  {
   "cell_type": "code",
   "execution_count": 369,
   "metadata": {},
   "outputs": [
    {
     "data": {
      "text/plain": [
       "array([1, 1, 1, ..., 1, 1, 1])"
      ]
     },
     "execution_count": 369,
     "metadata": {},
     "output_type": "execute_result"
    }
   ],
   "source": [
    "y_pred = naivebayes_fit.predict(X_test)\n",
    "y_pred"
   ]
  },
  {
   "cell_type": "code",
   "execution_count": 370,
   "metadata": {},
   "outputs": [
    {
     "name": "stdout",
     "output_type": "stream",
     "text": [
      "f1-score on test set :  0.9506412611761412\n"
     ]
    }
   ],
   "source": [
    "print(\"f1-score on test set : \", f1_score(y_test, y_pred))"
   ]
  },
  {
   "cell_type": "code",
   "execution_count": 371,
   "metadata": {},
   "outputs": [
    {
     "name": "stdout",
     "output_type": "stream",
     "text": [
      "--- Test set ---\n",
      "Precision :  0.9060769795210459\n",
      "Recall :  0.9998159802730853\n",
      "\n"
     ]
    }
   ],
   "source": [
    "print('--- Test set ---')\n",
    "print('Precision : ', precision_score(y_test, y_pred))\n",
    "print('Recall : ', recall_score(y_test, y_pred))\n",
    "print()\n"
   ]
  },
  {
   "cell_type": "code",
   "execution_count": 372,
   "metadata": {},
   "outputs": [
    {
     "data": {
      "text/plain": [
       "<AxesSubplot:>"
      ]
     },
     "execution_count": 372,
     "metadata": {},
     "output_type": "execute_result"
    },
    {
     "data": {
      "image/png": "[encoded data removed]",
      "text/plain": [
       "<Figure size 432x288 with 2 Axes>"
      ]
     },
     "metadata": {},
     "output_type": "display_data"
    }
   ],
   "source": [
    "sns.heatmap(confusion_matrix(y_test, y_pred), annot = True, fmt = \"d\")"
   ]
  },
  {
   "cell_type": "markdown",
   "metadata": {},
   "source": [
    "### Second model : SVC\n",
    "\n",
    "Because the running time for SVM models is linear, we use only a sample of 10.000 items to train our model."
   ]
  },
  {
   "cell_type": "code",
   "execution_count": null,
   "metadata": {},
   "outputs": [],
   "source": [
    "from sklearn.svm import SVC\n",
    "svm = SVC(kernel='rbf', class_weight='balanced') # instanciation of Object\n",
    "%time svm.fit(X_train, y_train) # if data need to be flattered, use insteda np.array(X_train or y_train).ravel()"
   ]
  },
  {
   "cell_type": "code",
   "execution_count": null,
   "metadata": {},
   "outputs": [],
   "source": [
    "%time svm.score(X_test, y_test)"
   ]
  },
  {
   "cell_type": "code",
   "execution_count": null,
   "metadata": {},
   "outputs": [],
   "source": [
    "y_pred = svm.predict(X_test)\n",
    "print(\"f1-score on test set : \", f1_score(y_test, y_pred))"
   ]
  },
  {
   "cell_type": "code",
   "execution_count": null,
   "metadata": {},
   "outputs": [],
   "source": [
    "from sklearn.metrics import precision_score, recall_score, confusion_matrix\n",
    "\n",
    "#print('--- Train set ---')\n",
    "#print('Precision : ', precision_score(y_train, y_train_pred))\n",
    "#print('Recall : ', recall_score(y_train, y_train_pred))\n",
    "#print()\n",
    "#print(confusion_matrix(y_train, y_train_pred))\n",
    "#print()\n",
    "print('--- Test set ---')\n",
    "print('Precision : ', precision_score(y_test, y_pred))\n",
    "print('Recall : ', recall_score(y_test, y_pred))\n",
    "print()"
   ]
  },
  {
   "cell_type": "code",
   "execution_count": null,
   "metadata": {},
   "outputs": [],
   "source": [
    "sns.heatmap(confusion_matrix(y_test, y_pred), annot=True, fmt=\"d\")\n",
    "# True values on the vertical axis, predicted values on the horizontal one"
   ]
  },
  {
   "cell_type": "code",
   "execution_count": null,
   "metadata": {},
   "outputs": [],
   "source": []
  }
 ],
 "metadata": {
  "kernelspec": {
   "display_name": "Python 3",
   "language": "python",
   "name": "python3"
  },
  "language_info": {
   "codemirror_mode": {
    "name": "ipython",
    "version": 3
   },
   "file_extension": ".py",
   "mimetype": "text/x-python",
   "name": "python",
   "nbconvert_exporter": "python",
   "pygments_lexer": "ipython3",
   "version": "3.8.6"
  }
 },
 "nbformat": 4,
 "nbformat_minor": 4
}
